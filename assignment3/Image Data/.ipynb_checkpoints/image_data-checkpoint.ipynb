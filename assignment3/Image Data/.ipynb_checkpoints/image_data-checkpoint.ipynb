{
 "cells": [
  {
   "cell_type": "code",
   "execution_count": 1,
   "metadata": {
    "collapsed": true
   },
   "outputs": [],
   "source": [
    "import numpy as np\n",
    "import matplotlib.pyplot as plt\n",
    "\n",
    "import glob\n",
    "\n",
    "%matplotlib inline"
   ]
  },
  {
   "cell_type": "code",
   "execution_count": 2,
   "metadata": {
    "collapsed": true
   },
   "outputs": [],
   "source": [
    "forest_data_path = glob.glob(\"data/forest/*\")\n",
    "tallbuilding_data_path = glob.glob(\"data/tallbuilding/*\")"
   ]
  },
  {
   "cell_type": "code",
   "execution_count": 3,
   "metadata": {
    "collapsed": true
   },
   "outputs": [],
   "source": [
    "temp1 = np.loadtxt(forest_data_path[0])\n",
    "temp2 = np.loadtxt(tallbuilding_data_path[0])"
   ]
  },
  {
   "cell_type": "code",
   "execution_count": 4,
   "metadata": {},
   "outputs": [
    {
     "name": "stdout",
     "output_type": "stream",
     "text": [
      "(36, 23) (36, 23)\n"
     ]
    }
   ],
   "source": [
    "print(temp1.shape, temp2.shape)"
   ]
  },
  {
   "cell_type": "code",
   "execution_count": 13,
   "metadata": {},
   "outputs": [
    {
     "data": {
      "text/plain": [
       "array([  1.00660000e-01,   3.99470000e-01,   4.37360000e-01,\n",
       "         1.36450000e-03,   5.85230000e-05,   4.36820000e-04,\n",
       "        -8.94020000e-01,   5.97820000e-02,   2.02170000e-01,\n",
       "         6.29910000e-04,   1.03050000e-02,   4.78730000e-03,\n",
       "         1.46140000e-03,   4.53540000e-04,   8.99510000e-03,\n",
       "         6.17310000e-03,   1.16410000e-02,   3.32830000e+00,\n",
       "         3.19940000e+00,   3.30230000e+00,   3.25160000e+00,\n",
       "         3.37700000e+00,   3.02360000e+00])"
      ]
     },
     "execution_count": 13,
     "metadata": {},
     "output_type": "execute_result"
    }
   ],
   "source": [
    "temp[0]"
   ]
  },
  {
   "cell_type": "code",
   "execution_count": null,
   "metadata": {
    "collapsed": true
   },
   "outputs": [],
   "source": []
  }
 ],
 "metadata": {
  "kernelspec": {
   "display_name": "Python 3",
   "language": "python",
   "name": "python3"
  },
  "language_info": {
   "codemirror_mode": {
    "name": "ipython",
    "version": 3
   },
   "file_extension": ".py",
   "mimetype": "text/x-python",
   "name": "python",
   "nbconvert_exporter": "python",
   "pygments_lexer": "ipython3",
   "version": "3.6.1"
  }
 },
 "nbformat": 4,
 "nbformat_minor": 2
}
