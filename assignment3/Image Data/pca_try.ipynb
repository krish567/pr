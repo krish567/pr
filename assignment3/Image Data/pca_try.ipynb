{
 "cells": [
  {
   "cell_type": "code",
   "execution_count": 1,
   "metadata": {
    "collapsed": true
   },
   "outputs": [],
   "source": [
    "import numpy as np\n",
    "import matplotlib.pyplot as plt\n",
    "\n",
    "import glob\n",
    "\n",
    "from sklearn.decomposition import PCA\n",
    "import pandas as pd\n",
    "import matplotlib.pyplot as plt\n",
    "from sklearn.preprocessing import scale\n",
    "%matplotlib inline\n",
    "\n",
    "#custom functions\n",
    "from helpers import*\n",
    "%matplotlib inline"
   ]
  },
  {
   "cell_type": "code",
   "execution_count": 2,
   "metadata": {
    "collapsed": true
   },
   "outputs": [],
   "source": [
    "#Load Data\n",
    "\n",
    "forest_data_path = glob.glob(\"data/forest/*\")\n",
    "tallbuilding_data_path = glob.glob(\"data/tallbuilding/*\")\n",
    "highway_data_path = glob.glob(\"data/highway/*\")\n",
    "\n",
    "cA = []\n",
    "for item in forest_data_path:\n",
    "    cA.append(np.loadtxt(item))\n",
    "\n",
    "cB = []\n",
    "for item in tallbuilding_data_path:\n",
    "    cB.append(np.loadtxt(item))\n",
    "    \n",
    "cC = []\n",
    "for item in highway_data_path:\n",
    "    cC.append(np.loadtxt(item))\n",
    "    \n",
    "cA = np.array(cA)\n",
    "cB = np.array(cB)\n",
    "cC = np.array(cC)\n",
    "\n",
    "cA_train,cA_test = train_test_split(cA, test_size=0.3, random_state=42)\n",
    "cB_train,cB_test = train_test_split(cB, test_size=0.3, random_state=42) \n",
    "cC_train,cC_test = train_test_split(cC, test_size=0.3, random_state=42) "
   ]
  },
  {
   "cell_type": "code",
   "execution_count": 3,
   "metadata": {
    "collapsed": true
   },
   "outputs": [],
   "source": [
    "X = cA_train.reshape(-1,23)"
   ]
  },
  {
   "cell_type": "code",
   "execution_count": 7,
   "metadata": {},
   "outputs": [
    {
     "name": "stdout",
     "output_type": "stream",
     "text": [
      "[  42.45   50.17   56.2    61.8    66.92   71.41   75.3    79.14   82.63\n",
      "   85.69   88.29   90.55   92.63   94.39   95.76   97.01   97.98   98.7\n",
      "   99.38   99.85   99.99  100.    100.  ]\n"
     ]
    },
    {
     "data": {
      "image/png": "[encoded data removed]",
      "text/plain": [
       "<matplotlib.figure.Figure at 0x7fb67c33cf98>"
      ]
     },
     "metadata": {},
     "output_type": "display_data"
    }
   ],
   "source": [
    "X = scale(X)\n",
    "\n",
    "pca = PCA(n_components=23)\n",
    "\n",
    "pca.fit(X)\n",
    "\n",
    "#The amount of variance that each PC explains\n",
    "var= pca.explained_variance_ratio_\n",
    "\n",
    "#Cumulative Variance explains\n",
    "var1=np.cumsum(np.round(pca.explained_variance_ratio_, decimals=4)*100)\n",
    "\n",
    "print(var1)\n",
    "plt.plot(var1)\n",
    "plt.show()"
   ]
  },
  {
   "cell_type": "code",
   "execution_count": 9,
   "metadata": {},
   "outputs": [
    {
     "name": "stdout",
     "output_type": "stream",
     "text": [
      "[[-2.99494015  0.33571017  0.40138118 ..., -0.83976741  0.90057726\n",
      "   0.9169917 ]\n",
      " [-3.14024124  0.27256726  0.65225036 ..., -0.8978907  -0.45207167\n",
      "  -0.89677951]\n",
      " [-3.84419229  0.77868438  0.46175685 ..., -0.35679675 -0.39623651\n",
      "  -0.1613198 ]\n",
      " ..., \n",
      " [ 5.14902183  0.23807862 -0.47667374 ...,  1.16831171  0.38281464\n",
      "   1.50318105]\n",
      " [ 6.72255097  0.2834553   1.25102207 ...,  0.41988513  0.4419536\n",
      "   1.04612239]\n",
      " [ 6.29160916 -0.33295405  0.25326692 ...,  0.76191827 -1.00958147\n",
      "   0.0108097 ]]\n"
     ]
    }
   ],
   "source": [
    "pca = PCA(n_components=10)\n",
    "pca.fit(X)\n",
    "X1=pca.fit_transform(X)\n",
    "print(X1.shape)"
   ]
  },
  {
   "cell_type": "code",
   "execution_count": 13,
   "metadata": {},
   "outputs": [],
   "source": [
    "import numpy as np\n",
    "from sklearn.decomposition import IncrementalPCA\n",
    "\n",
    "ipca = IncrementalPCA(n_components=10, batch_size=36)\n",
    "ipca.fit(X)\n",
    "\n",
    "X2 = ipca.transform(X)\n",
    "print(X2.shape)"
   ]
  },
  {
   "cell_type": "code",
   "execution_count": null,
   "metadata": {
    "collapsed": true
   },
   "outputs": [],
   "source": []
  }
 ],
 "metadata": {
  "kernelspec": {
   "display_name": "Python 3",
   "language": "python",
   "name": "python3"
  },
  "language_info": {
   "codemirror_mode": {
    "name": "ipython",
    "version": 3
   },
   "file_extension": ".py",
   "mimetype": "text/x-python",
   "name": "python",
   "nbconvert_exporter": "python",
   "pygments_lexer": "ipython3",
   "version": "3.6.1"
  }
 },
 "nbformat": 4,
 "nbformat_minor": 2
}
