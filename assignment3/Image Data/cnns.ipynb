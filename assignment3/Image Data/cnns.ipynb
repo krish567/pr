{
 "cells": [
  {
   "cell_type": "code",
   "execution_count": 68,
   "metadata": {
    "collapsed": true
   },
   "outputs": [],
   "source": [
    "import numpy as np\n",
    "\n",
    "import glob\n",
    "\n",
    "from sklearn.model_selection import train_test_split\n",
    "from sklearn.preprocessing import normalize\n",
    "\n",
    "import matplotlib.pyplot as plt\n",
    "%matplotlib inline"
   ]
  },
  {
   "cell_type": "code",
   "execution_count": 2,
   "metadata": {
    "collapsed": true
   },
   "outputs": [],
   "source": [
    "forest_data_path = glob.glob(\"data/forest_ft/*\")\n",
    "tallbuilding_data_path = glob.glob(\"data/tallbuilding_ft/*\")\n",
    "highway_data_path = glob.glob(\"data/highway_ft/*\")"
   ]
  },
  {
   "cell_type": "code",
   "execution_count": 61,
   "metadata": {},
   "outputs": [],
   "source": [
    "X = []\n",
    "Y = []\n",
    "for item in forest_data_path:\n",
    "    X.append(np.loadtxt(item))\n",
    "    Y.append(1)\n",
    "\n",
    "for item in tallbuilding_data_path:\n",
    "    X.append(np.loadtxt(item))\n",
    "    Y.append(2)\n",
    "    \n",
    "cC = []\n",
    "for item in highway_data_path:\n",
    "    X.append(np.loadtxt(item))\n",
    "    Y.append(3)\n",
    "    \n",
    "# cA = modify_x(np.array(cA))\n",
    "# cB = modify_x(np.array(cB))\n",
    "# cC = modify_x(np.array(cC))\n",
    "\n",
    "X = np.array(X)\n",
    "for i in range(X.shape[0]):\n",
    "    X[i] = normalize(X[i])\n",
    "X = X.reshape(-1,36,23,1)\n",
    "Y = (np.array(Y))\n",
    "\n",
    "X_train, X_test, Y_train, Y_test = train_test_split(X, Y, test_size=0.3, random_state=42)"
   ]
  },
  {
   "cell_type": "code",
   "execution_count": 5,
   "metadata": {},
   "outputs": [
    {
     "name": "stderr",
     "output_type": "stream",
     "text": [
      "Using TensorFlow backend.\n"
     ]
    }
   ],
   "source": [
    "from keras.models import Sequential\n",
    "from keras.layers.core import Dense, Activation, Flatten, Dropout\n",
    "from keras.layers.convolutional import Convolution2D\n",
    "from keras.layers.pooling import MaxPooling2D"
   ]
  },
  {
   "cell_type": "code",
   "execution_count": 81,
   "metadata": {},
   "outputs": [
    {
     "name": "stdout",
     "output_type": "stream",
     "text": [
      "_________________________________________________________________\n",
      "Layer (type)                 Output Shape              Param #   \n",
      "=================================================================\n",
      "conv2d_38 (Conv2D)           (None, 29, 16, 32)        2080      \n",
      "_________________________________________________________________\n",
      "conv2d_39 (Conv2D)           (None, 26, 13, 64)        32832     \n",
      "_________________________________________________________________\n",
      "conv2d_40 (Conv2D)           (None, 23, 10, 128)       131200    \n",
      "_________________________________________________________________\n",
      "flatten_10 (Flatten)         (None, 29440)             0         \n",
      "_________________________________________________________________\n",
      "dense_19 (Dense)             (None, 128)               3768448   \n",
      "_________________________________________________________________\n",
      "dense_20 (Dense)             (None, 3)                 387       \n",
      "=================================================================\n",
      "Total params: 3,934,947\n",
      "Trainable params: 3,934,947\n",
      "Non-trainable params: 0\n",
      "_________________________________________________________________\n"
     ]
    }
   ],
   "source": [
    "model = Sequential()\n",
    "model.add(Convolution2D(32, 8, strides=(1, 1), input_shape=(36, 23, 1), activation='relu'))\n",
    "model.add(Convolution2D(64, 4, strides=(1, 1), activation='relu'))\n",
    "model.add(Convolution2D(128, 4, strides=(1, 1), activation='relu'))\n",
    "model.add(Flatten())\n",
    "model.add(Dense(128, activation='relu'))\n",
    "model.add(Dense(3, activation='softmax'))\n",
    "model.summary()"
   ]
  },
  {
   "cell_type": "code",
   "execution_count": 82,
   "metadata": {
    "collapsed": true
   },
   "outputs": [],
   "source": [
    "from sklearn.preprocessing import LabelBinarizer\n",
    "label_binarizer = LabelBinarizer()\n",
    "Y_train_onehot = label_binarizer.fit_transform(Y_train)\n",
    "Y_test_onehot = label_binarizer.fit_transform(Y_test)"
   ]
  },
  {
   "cell_type": "code",
   "execution_count": 83,
   "metadata": {},
   "outputs": [
    {
     "name": "stdout",
     "output_type": "stream",
     "text": [
      "Epoch 1/25\n",
      "660/660 [==============================] - 3s - loss: 1.1129 - acc: 0.3727     \n",
      "Epoch 2/25\n",
      "660/660 [==============================] - 1s - loss: 0.9739 - acc: 0.5227     \n",
      "Epoch 3/25\n",
      "660/660 [==============================] - 1s - loss: 0.7329 - acc: 0.6939     \n",
      "Epoch 4/25\n",
      "660/660 [==============================] - 1s - loss: 0.6050 - acc: 0.7409     \n",
      "Epoch 5/25\n",
      "660/660 [==============================] - 1s - loss: 0.5188 - acc: 0.7955     \n",
      "Epoch 6/25\n",
      "660/660 [==============================] - 1s - loss: 0.4592 - acc: 0.8303     \n",
      "Epoch 7/25\n",
      "660/660 [==============================] - 1s - loss: 0.4145 - acc: 0.8424     \n",
      "Epoch 8/25\n",
      "660/660 [==============================] - 1s - loss: 0.3937 - acc: 0.8576     \n",
      "Epoch 9/25\n",
      "660/660 [==============================] - 1s - loss: 0.3240 - acc: 0.8758     \n",
      "Epoch 10/25\n",
      "660/660 [==============================] - 1s - loss: 0.3076 - acc: 0.8818     \n",
      "Epoch 11/25\n",
      "660/660 [==============================] - 1s - loss: 0.3226 - acc: 0.8682     \n",
      "Epoch 12/25\n",
      "660/660 [==============================] - 1s - loss: 0.2365 - acc: 0.9045     \n",
      "Epoch 13/25\n",
      "660/660 [==============================] - 1s - loss: 0.2278 - acc: 0.9152     \n",
      "Epoch 14/25\n",
      "660/660 [==============================] - 1s - loss: 0.1994 - acc: 0.9121     \n",
      "Epoch 15/25\n",
      "660/660 [==============================] - 1s - loss: 0.1375 - acc: 0.9515     \n",
      "Epoch 16/25\n",
      "660/660 [==============================] - 1s - loss: 0.1094 - acc: 0.9606     \n",
      "Epoch 17/25\n",
      "660/660 [==============================] - 1s - loss: 0.0956 - acc: 0.9712     \n",
      "Epoch 18/25\n",
      "660/660 [==============================] - 1s - loss: 0.0592 - acc: 0.9848     \n",
      "Epoch 19/25\n",
      "660/660 [==============================] - 1s - loss: 0.0499 - acc: 0.9879     \n",
      "Epoch 20/25\n",
      "660/660 [==============================] - 1s - loss: 0.0534 - acc: 0.9758     \n",
      "Epoch 21/25\n",
      "660/660 [==============================] - 1s - loss: 0.0486 - acc: 0.9909     \n",
      "Epoch 22/25\n",
      "660/660 [==============================] - 1s - loss: 0.0227 - acc: 0.9985     \n",
      "Epoch 23/25\n",
      "660/660 [==============================] - 1s - loss: 0.0090 - acc: 1.0000     \n",
      "Epoch 24/25\n",
      "660/660 [==============================] - 1s - loss: 0.0050 - acc: 1.0000     \n",
      "Epoch 25/25\n",
      "660/660 [==============================] - 1s - loss: 0.0031 - acc: 1.0000     \n"
     ]
    }
   ],
   "source": [
    "model.compile('adam', loss ='categorical_crossentropy',metrics = ['accuracy'])\n",
    "history = model.fit(X_train, Y_train_onehot, epochs=25)"
   ]
  },
  {
   "cell_type": "code",
   "execution_count": 84,
   "metadata": {},
   "outputs": [
    {
     "name": "stdout",
     "output_type": "stream",
     "text": [
      "284/284 [==============================] - 0s     \n",
      "loss: 0.6647049868610543\n",
      "acc: 0.86267605298002\n"
     ]
    }
   ],
   "source": [
    "metrics = model.evaluate(X_test, Y_test_onehot)\n",
    "for metric_i in range(len(model.metrics_names)):\n",
    "    metric_name = model.metrics_names[metric_i]\n",
    "    metric_value = metrics[metric_i]\n",
    "    print('{}: {}'.format(metric_name, metric_value))"
   ]
  },
  {
   "cell_type": "code",
   "execution_count": 85,
   "metadata": {},
   "outputs": [
    {
     "data": {
      "image/png": "[encoded data removed]",
      "text/plain": [
       "<matplotlib.figure.Figure at 0x1fc870fcb00>"
      ]
     },
     "metadata": {},
     "output_type": "display_data"
    }
   ],
   "source": [
    "# Plot the loss and accuracy curves for training and validation \n",
    "fig, ax = plt.subplots(2,1)\n",
    "ax[0].plot(history.history['loss'], color='b', label=\"Training loss\")\n",
    "legend = ax[0].legend(loc='best', shadow=True)\n",
    "\n",
    "ax[1].plot(history.history['acc'], color='b', label=\"Training accuracy\")\n",
    "legend = ax[1].legend(loc='best', shadow=True)"
   ]
  },
  {
   "cell_type": "code",
   "execution_count": null,
   "metadata": {
    "collapsed": true
   },
   "outputs": [],
   "source": []
  }
 ],
 "metadata": {
  "kernelspec": {
   "display_name": "Python 3",
   "language": "python",
   "name": "python3"
  },
  "language_info": {
   "codemirror_mode": {
    "name": "ipython",
    "version": 3
   },
   "file_extension": ".py",
   "mimetype": "text/x-python",
   "name": "python",
   "nbconvert_exporter": "python",
   "pygments_lexer": "ipython3",
   "version": "3.5.3"
  }
 },
 "nbformat": 4,
 "nbformat_minor": 2
}
