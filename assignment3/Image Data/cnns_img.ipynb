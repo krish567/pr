{
 "cells": [
  {
   "cell_type": "code",
   "execution_count": 1,
   "metadata": {
    "collapsed": true
   },
   "outputs": [],
   "source": [
    "import numpy as np\n",
    "\n",
    "import glob\n",
    "\n",
    "from sklearn.model_selection import train_test_split\n",
    "from sklearn.preprocessing import normalize\n",
    "from scipy import misc\n",
    "\n",
    "import matplotlib.pyplot as plt\n",
    "%matplotlib inline"
   ]
  },
  {
   "cell_type": "code",
   "execution_count": 2,
   "metadata": {
    "collapsed": true
   },
   "outputs": [],
   "source": [
    "forest_data_path = glob.glob(\"data/forest/*\")\n",
    "tallbuilding_data_path = glob.glob(\"data/tallbuilding/*\")\n",
    "highway_data_path = glob.glob(\"data/highway/*\")"
   ]
  },
  {
   "cell_type": "code",
   "execution_count": 3,
   "metadata": {
    "collapsed": true
   },
   "outputs": [],
   "source": [
    "X = []\n",
    "Y = []\n",
    "for item in forest_data_path:\n",
    "    X.append(misc.imread(item))\n",
    "    Y.append(1)\n",
    "\n",
    "for item in tallbuilding_data_path:\n",
    "    X.append(misc.imread(item))\n",
    "    Y.append(2)\n",
    "    \n",
    "cC = []\n",
    "for item in highway_data_path:\n",
    "    X.append(misc.imread(item))\n",
    "    Y.append(3)\n",
    "    \n",
    "# cA = modify_x(np.array(cA))\n",
    "# cB = modify_x(np.array(cB))\n",
    "# cC = modify_x(np.array(cC))\n",
    "\n",
    "X = np.array(X)/255\n",
    "Y = (np.array(Y))\n",
    "\n",
    "X_train, X_test, Y_train, Y_test = train_test_split(X, Y, test_size=0.3, random_state=42)"
   ]
  },
  {
   "cell_type": "code",
   "execution_count": 4,
   "metadata": {},
   "outputs": [
    {
     "name": "stderr",
     "output_type": "stream",
     "text": [
      "Using TensorFlow backend.\n"
     ]
    }
   ],
   "source": [
    "from keras.models import Sequential\n",
    "from keras.layers.core import Dense, Activation, Flatten, Dropout\n",
    "from keras.layers.convolutional import Convolution2D\n",
    "from keras.layers.pooling import MaxPooling2D"
   ]
  },
  {
   "cell_type": "code",
   "execution_count": 17,
   "metadata": {},
   "outputs": [
    {
     "name": "stdout",
     "output_type": "stream",
     "text": [
      "_________________________________________________________________\n",
      "Layer (type)                 Output Shape              Param #   \n",
      "=================================================================\n",
      "conv2d_17 (Conv2D)           (None, 62, 62, 48)        17472     \n",
      "_________________________________________________________________\n",
      "max_pooling2d_16 (MaxPooling (None, 31, 31, 48)        0         \n",
      "_________________________________________________________________\n",
      "dropout_13 (Dropout)         (None, 31, 31, 48)        0         \n",
      "_________________________________________________________________\n",
      "conv2d_18 (Conv2D)           (None, 27, 27, 128)       153728    \n",
      "_________________________________________________________________\n",
      "max_pooling2d_17 (MaxPooling (None, 13, 13, 128)       0         \n",
      "_________________________________________________________________\n",
      "dropout_14 (Dropout)         (None, 13, 13, 128)       0         \n",
      "_________________________________________________________________\n",
      "conv2d_19 (Conv2D)           (None, 11, 11, 196)       225988    \n",
      "_________________________________________________________________\n",
      "max_pooling2d_18 (MaxPooling (None, 5, 5, 196)         0         \n",
      "_________________________________________________________________\n",
      "dropout_15 (Dropout)         (None, 5, 5, 196)         0         \n",
      "_________________________________________________________________\n",
      "conv2d_20 (Conv2D)           (None, 3, 3, 128)         225920    \n",
      "_________________________________________________________________\n",
      "max_pooling2d_19 (MaxPooling (None, 1, 1, 128)         0         \n",
      "_________________________________________________________________\n",
      "dropout_16 (Dropout)         (None, 1, 1, 128)         0         \n",
      "_________________________________________________________________\n",
      "flatten_2 (Flatten)          (None, 128)               0         \n",
      "_________________________________________________________________\n",
      "dense_3 (Dense)              (None, 2048)              264192    \n",
      "_________________________________________________________________\n",
      "dense_4 (Dense)              (None, 1024)              2098176   \n",
      "_________________________________________________________________\n",
      "dense_5 (Dense)              (None, 3)                 3075      \n",
      "=================================================================\n",
      "Total params: 2,988,551\n",
      "Trainable params: 2,988,551\n",
      "Non-trainable params: 0\n",
      "_________________________________________________________________\n"
     ]
    }
   ],
   "source": [
    "model = Sequential()\n",
    "model.add(Convolution2D(48, 11, strides=(4, 4), input_shape=(256, 256, 3), activation='relu'))\n",
    "model.add(MaxPooling2D(pool_size=(2,2)))\n",
    "model.add(Dropout(0.7))\n",
    "\n",
    "model.add(Convolution2D(128, 5, strides=(1, 1), activation='relu'))\n",
    "model.add(MaxPooling2D(pool_size=(2,2)))\n",
    "model.add(Dropout(0.7))\n",
    "\n",
    "model.add(Convolution2D(196, 3, strides=(1, 1), activation='relu'))\n",
    "model.add(MaxPooling2D(pool_size=(2,2)))\n",
    "model.add(Dropout(0.7))\n",
    "\n",
    "model.add(Convolution2D(128, 3, strides=(1, 1), activation='relu'))\n",
    "model.add(MaxPooling2D(pool_size=(2,2)))\n",
    "model.add(Dropout(0.7))\n",
    "\n",
    "model.add(Flatten())\n",
    "model.add(Dense(2048, activation='relu'))\n",
    "model.add(Dense(1024, activation='relu'))\n",
    "model.add(Dense(3, activation='softmax'))\n",
    "model.summary()"
   ]
  },
  {
   "cell_type": "code",
   "execution_count": 18,
   "metadata": {
    "collapsed": true
   },
   "outputs": [],
   "source": [
    "from sklearn.preprocessing import LabelBinarizer\n",
    "label_binarizer = LabelBinarizer()\n",
    "Y_train_onehot = label_binarizer.fit_transform(Y_train)\n",
    "Y_test_onehot = label_binarizer.fit_transform(Y_test)"
   ]
  },
  {
   "cell_type": "code",
   "execution_count": 20,
   "metadata": {},
   "outputs": [
    {
     "name": "stdout",
     "output_type": "stream",
     "text": [
      "Epoch 1/25\n",
      "660/660 [==============================] - 4s - loss: 1.3020 - acc: 0.5394     \n",
      "Epoch 2/25\n",
      "660/660 [==============================] - 4s - loss: 1.0745 - acc: 0.4742     \n",
      "Epoch 3/25\n",
      "660/660 [==============================] - 3s - loss: 1.2604 - acc: 0.3848     \n",
      "Epoch 4/25\n",
      "660/660 [==============================] - 3s - loss: 1.2391 - acc: 0.3773     \n",
      "Epoch 5/25\n",
      "660/660 [==============================] - 4s - loss: 1.1919 - acc: 0.3803     \n",
      "Epoch 6/25\n",
      "660/660 [==============================] - 4s - loss: 1.1003 - acc: 0.3788     \n",
      "Epoch 7/25\n",
      "660/660 [==============================] - 3s - loss: 1.0489 - acc: 0.4455     \n",
      "Epoch 8/25\n",
      "660/660 [==============================] - 3s - loss: 1.0711 - acc: 0.4455     \n",
      "Epoch 9/25\n",
      "660/660 [==============================] - 3s - loss: 0.9921 - acc: 0.5197     \n",
      "Epoch 10/25\n",
      "660/660 [==============================] - 3s - loss: 0.9373 - acc: 0.6030     \n",
      "Epoch 11/25\n",
      "660/660 [==============================] - 3s - loss: 0.8794 - acc: 0.5864     \n",
      "Epoch 12/25\n",
      "660/660 [==============================] - 3s - loss: 0.8560 - acc: 0.6030     \n",
      "Epoch 13/25\n",
      "660/660 [==============================] - 3s - loss: 0.8386 - acc: 0.6106     \n",
      "Epoch 14/25\n",
      "660/660 [==============================] - 3s - loss: 0.8672 - acc: 0.5864     \n",
      "Epoch 15/25\n",
      "660/660 [==============================] - 3s - loss: 0.8265 - acc: 0.6091     \n",
      "Epoch 16/25\n",
      "660/660 [==============================] - 3s - loss: 0.8147 - acc: 0.6258     \n",
      "Epoch 17/25\n",
      "660/660 [==============================] - 4s - loss: 0.8481 - acc: 0.5955     \n",
      "Epoch 18/25\n",
      "660/660 [==============================] - 3s - loss: 0.7435 - acc: 0.6424     \n",
      "Epoch 19/25\n",
      "660/660 [==============================] - 3s - loss: 0.7557 - acc: 0.6439     \n",
      "Epoch 20/25\n",
      "660/660 [==============================] - 4s - loss: 0.7415 - acc: 0.6379     \n",
      "Epoch 21/25\n",
      "660/660 [==============================] - 3s - loss: 0.7526 - acc: 0.6303     \n",
      "Epoch 22/25\n",
      "660/660 [==============================] - 3s - loss: 0.7537 - acc: 0.6242     \n",
      "Epoch 23/25\n",
      "660/660 [==============================] - 3s - loss: 0.7263 - acc: 0.6409     \n",
      "Epoch 24/25\n",
      "660/660 [==============================] - 3s - loss: 0.7318 - acc: 0.6394     \n",
      "Epoch 25/25\n",
      "660/660 [==============================] - 3s - loss: 0.6833 - acc: 0.6485     \n"
     ]
    }
   ],
   "source": [
    "model.compile('adam', loss ='categorical_crossentropy',metrics = ['accuracy'])\n",
    "history = model.fit(X_train, Y_train_onehot, epochs=25, batch_size = 256)"
   ]
  },
  {
   "cell_type": "code",
   "execution_count": 11,
   "metadata": {},
   "outputs": [
    {
     "name": "stdout",
     "output_type": "stream",
     "text": [
      "284/284 [==============================] - 1s     \n",
      "loss: 0.40385447253643625\n",
      "acc: 0.8485915476167706\n"
     ]
    }
   ],
   "source": [
    "metrics = model.evaluate(X_test, Y_test_onehot)\n",
    "for metric_i in range(len(model.metrics_names)):\n",
    "    metric_name = model.metrics_names[metric_i]\n",
    "    metric_value = metrics[metric_i]\n",
    "    print('{}: {}'.format(metric_name, metric_value))"
   ]
  },
  {
   "cell_type": "code",
   "execution_count": 12,
   "metadata": {},
   "outputs": [
    {
     "data": {
      "image/png": "[encoded data removed]",
      "text/plain": [
       "<matplotlib.figure.Figure at 0x258677d60b8>"
      ]
     },
     "metadata": {},
     "output_type": "display_data"
    }
   ],
   "source": [
    "# Plot the loss and accuracy curves for training and validation \n",
    "fig, ax = plt.subplots(2,1)\n",
    "ax[0].plot(history.history['loss'], color='b', label=\"Training loss\")\n",
    "legend = ax[0].legend(loc='best', shadow=True)\n",
    "\n",
    "ax[1].plot(history.history['acc'], color='b', label=\"Training accuracy\")\n",
    "legend = ax[1].legend(loc='best', shadow=True)"
   ]
  },
  {
   "cell_type": "code",
   "execution_count": null,
   "metadata": {
    "collapsed": true
   },
   "outputs": [],
   "source": []
  }
 ],
 "metadata": {
  "kernelspec": {
   "display_name": "Python 3",
   "language": "python",
   "name": "python3"
  },
  "language_info": {
   "codemirror_mode": {
    "name": "ipython",
    "version": 3
   },
   "file_extension": ".py",
   "mimetype": "text/x-python",
   "name": "python",
   "nbconvert_exporter": "python",
   "pygments_lexer": "ipython3",
   "version": "3.5.3"
  }
 },
 "nbformat": 4,
 "nbformat_minor": 2
}
