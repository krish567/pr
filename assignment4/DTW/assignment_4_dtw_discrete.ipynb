{
 "cells": [
  {
   "cell_type": "code",
   "execution_count": 8,
   "metadata": {
    "collapsed": true
   },
   "outputs": [],
   "source": [
    "import numpy as np\n",
    "\n",
    "from sklearn.cluster import KMeans\n",
    "from sklearn.model_selection import train_test_split\n",
    "from scipy.spatial.distance import cdist\n",
    "\n",
    "import matplotlib.pyplot as plt\n",
    "%matplotlib inline\n",
    "\n",
    "import glob\n",
    "import pandas as pd\n",
    "\n",
    "from scipy.spatial.distance import euclidean\n",
    "from numpy import array, zeros, argmin, inf, equal, ndim\n",
    "from scipy.spatial.distance import cdist\n"
   ]
  },
  {
   "cell_type": "code",
   "execution_count": 9,
   "metadata": {
    "collapsed": true
   },
   "outputs": [],
   "source": [
    "d1 = glob.glob('Datasets/digit_data/isolated/36/1/*')\n",
    "d2 = glob.glob('Datasets/digit_data/isolated/36/2/*')\n",
    "d3 = glob.glob('Datasets/digit_data/isolated/36/3/*')"
   ]
  },
  {
   "cell_type": "code",
   "execution_count": 10,
   "metadata": {},
   "outputs": [],
   "source": [
    "def load_mfcc(list_paths):\n",
    "    X = []\n",
    "    for i in list_paths:\n",
    "        X.append(np.array(pd.read_csv(i, sep = \" \", skiprows = [0], header = None))[:,1:])\n",
    "\n",
    "    return np.array(X)\n",
    "\n",
    "def combine(X):\n",
    "    temp_X = []\n",
    "\n",
    "    for i in X:\n",
    "        for j in i:\n",
    "            temp_X.append(j)\n",
    "\n",
    "    return np.array(temp_X)"
   ]
  },
  {
   "cell_type": "code",
   "execution_count": 11,
   "metadata": {
    "collapsed": true
   },
   "outputs": [],
   "source": [
    "def plot_elbow(X, K=10):\n",
    "    \n",
    "    distortions = []\n",
    "    for k in range(1,K):\n",
    "        kmeanModel = KMeans(n_clusters=k).fit(X)\n",
    "        kmeanModel.fit(X)\n",
    "        distortions.append(sum(np.min(cdist(X, kmeanModel.cluster_centers_, 'euclidean'), axis=1)) / X.shape[0])\n",
    "\n",
    "    # Plot the elbow\n",
    "    plt.plot(range(1,K), distortions, 'bx-')\n",
    "    plt.xlabel('k')\n",
    "    plt.ylabel('Distortion')\n",
    "    plt.title('The Elbow Method showing the optimal k')\n",
    "    plt.show()\n",
    "    \n",
    "def get_labels(X, K):\n",
    "    clf = KMeans(n_clusters = K)\n",
    "    clf.fit(X)\n",
    "\n",
    "    # Gives the final cetnroids of each cluster\n",
    "    centroids = clf.cluster_centers_\n",
    "\n",
    "    # Label of each data-point\n",
    "    return clf.labels_"
   ]
  },
  {
   "cell_type": "code",
   "execution_count": 12,
   "metadata": {
    "collapsed": true
   },
   "outputs": [],
   "source": [
    "# Load and structure data\n",
    "X1 = load_mfcc(d1)\n",
    "X2 = load_mfcc(d2)\n",
    "X3 = load_mfcc(d3)\n",
    "\n",
    "# Train Test data partition\n",
    "X1_train,X1_test = train_test_split(X1, test_size=0.3, random_state=42)\n",
    "X2_train,X2_test = train_test_split(X2, test_size=0.3, random_state=42)\n",
    "X3_train,X3_test = train_test_split(X3, test_size=0.3, random_state=42)"
   ]
  },
  {
   "cell_type": "code",
   "execution_count": 13,
   "metadata": {},
   "outputs": [],
   "source": [
    "#plot_elbow(np.vstack((combine(X1_train), combine(X2_train), combine(X3_train))), 15)"
   ]
  },
  {
   "cell_type": "code",
   "execution_count": 14,
   "metadata": {},
   "outputs": [],
   "source": [
    "def build_train_data(label_data, before_combine_data):\n",
    "    start = 0\n",
    "    end = start\n",
    "    temp_labels = []\n",
    "    for i in before_combine_data:\n",
    "        bound = i.shape[0]\n",
    "        temp_labels.append(label_data[start:end+bound])\n",
    "        start = end+bound\n",
    "        end = start\n",
    "\n",
    "    return np.array(temp_labels)"
   ]
  },
  {
   "cell_type": "code",
   "execution_count": 15,
   "metadata": {
    "collapsed": true
   },
   "outputs": [],
   "source": [
    "def combine(X):\n",
    "    temp_X = []\n",
    "\n",
    "    for i in X:\n",
    "        for j in i:\n",
    "            temp_X.append(j)\n",
    "\n",
    "    return np.array(temp_X)"
   ]
  },
  {
   "cell_type": "code",
   "execution_count": 16,
   "metadata": {
    "collapsed": true
   },
   "outputs": [],
   "source": [
    "def get_labels(X, K):\n",
    "    clf = KMeans(n_clusters = K)\n",
    "    clf.fit(X)\n",
    "\n",
    "    # Gives the final cetnroids of each cluster\n",
    "    centroids = clf.cluster_centers_\n",
    "\n",
    "    # Label of each data-point\n",
    "    return clf.labels_"
   ]
  },
  {
   "cell_type": "code",
   "execution_count": 17,
   "metadata": {
    "collapsed": true
   },
   "outputs": [],
   "source": [
    "def generate_out(X1, X2, X3, K):\n",
    "    cX1 = combine(X1)\n",
    "    cX2 = combine(X2)\n",
    "    cX3 = combine(X3)    \n",
    "\n",
    "    X = np.vstack((cX1, cX2, cX3))\n",
    "\n",
    "    c_d = get_labels(X, K)\n",
    "\n",
    "    c1 = c_d[0:cX1.shape[0]]\n",
    "    c2 = c_d[cX1.shape[0]:cX1.shape[0]+cX2.shape[0]]\n",
    "    c3 = c_d[cX1.shape[0]+cX2.shape[0]:]\n",
    "\n",
    "    d1_labels = build_train_data(c1, X1)\n",
    "    d2_labels = build_train_data(c2, X2)\n",
    "    d3_labels = build_train_data(c3, X3)\n",
    "\n",
    "    return (d1_labels, d2_labels, d3_labels)"
   ]
  },
  {
   "cell_type": "code",
   "execution_count": 18,
   "metadata": {
    "collapsed": true
   },
   "outputs": [],
   "source": [
    "def write_outfile(np_array, filename=\"np_array.out\"):\n",
    "    with open(filename, 'w') as f:\n",
    "        for row in np_array:\n",
    "            temp = ''\n",
    "            for item in row:\n",
    "                temp = temp+str(item)+' '\n",
    "            f.write(temp+'\\n')\n",
    "    print(\"Dumped to \"+filename)"
   ]
  },
  {
   "cell_type": "code",
   "execution_count": 19,
   "metadata": {},
   "outputs": [
    {
     "name": "stdout",
     "output_type": "stream",
     "text": [
      "Dumped to d1_labels.out\n",
      "Dumped to d2_labels.out\n",
      "Dumped to d3_labels.out\n"
     ]
    }
   ],
   "source": [
    "# Discretize the training data using K means\n",
    "t1,t2,t3 = generate_out(X1_train, X2_train, X3_train, 4)\n",
    "write_outfile(t1,'d1_labels.out')\n",
    "write_outfile(t2,'d2_labels.out')\n",
    "write_outfile(t3,'d3_labels.out')"
   ]
  },
  {
   "cell_type": "code",
   "execution_count": 20,
   "metadata": {},
   "outputs": [
    {
     "name": "stdout",
     "output_type": "stream",
     "text": [
      "Dumped to d1_labels_test.out\n",
      "Dumped to d2_labels_test.out\n",
      "Dumped to d3_labels_test.out\n"
     ]
    }
   ],
   "source": [
    "# Discretize the testing data using K means\n",
    "t4,t5,t6 = generate_out(X1_test, X2_test, X3_test, 4)\n",
    "write_outfile(t4,'d1_labels_test.out')\n",
    "write_outfile(t5,'d2_labels_test.out')\n",
    "write_outfile(t6,'d3_labels_test.out')"
   ]
  },
  {
   "cell_type": "code",
   "execution_count": 21,
   "metadata": {
    "collapsed": true
   },
   "outputs": [],
   "source": [
    "def _traceback(D):\n",
    "    i, j = array(D.shape) - 2\n",
    "    p, q = [i], [j]\n",
    "    while ((i > 0) or (j > 0)):\n",
    "        tb = argmin((D[i, j], D[i, j+1], D[i+1, j]))\n",
    "        if (tb == 0):\n",
    "            i -= 1\n",
    "            j -= 1\n",
    "        elif (tb == 1):\n",
    "            i -= 1\n",
    "        else: # (tb == 2):\n",
    "            j -= 1\n",
    "        p.insert(0, i)\n",
    "        q.insert(0, j)\n",
    "    return array(p), array(q)"
   ]
  },
  {
   "cell_type": "code",
   "execution_count": 22,
   "metadata": {
    "collapsed": true
   },
   "outputs": [],
   "source": [
    "def fastdtw(x, y, dist):\n",
    "    \"\"\"\n",
    "    Computes Dynamic Time Warping (DTW) of two sequences in a faster way.\n",
    "    Instead of iterating through each element and calculating each distance,\n",
    "    this uses the cdist function from scipy (https://docs.scipy.org/doc/scipy/reference/generated/scipy.spatial.distance.cdist.html)\n",
    "\n",
    "    :param array x: N1*M array\n",
    "    :param array y: N2*M array\n",
    "    :param string or func dist: distance parameter for cdist. When string is given, cdist uses optimized functions for the distance metrics.\n",
    "    If a string is passed, the distance function can be 'braycurtis', 'canberra', 'chebyshev', 'cityblock', 'correlation', 'cosine', 'dice', 'euclidean', 'hamming', 'jaccard', 'kulsinski', 'mahalanobis', 'matching', 'minkowski', 'rogerstanimoto', 'russellrao', 'seuclidean', 'sokalmichener', 'sokalsneath', 'sqeuclidean', 'wminkowski', 'yule'.\n",
    "    Returns the minimum distance, the cost matrix, the accumulated cost matrix, and the wrap path.\n",
    "    \"\"\"\n",
    "    assert len(x)\n",
    "    assert len(y)\n",
    "    if ndim(x)==1:\n",
    "        x = x.reshape(-1,1)\n",
    "    if ndim(y)==1:\n",
    "        y = y.reshape(-1,1)\n",
    "    r, c = len(x), len(y)\n",
    "    D0 = zeros((r + 1, c + 1))\n",
    "    D0[0, 1:] = inf\n",
    "    D0[1:, 0] = inf\n",
    "    D1 = D0[1:, 1:]\n",
    "    D0[1:,1:] = cdist(x,y,dist)\n",
    "    C = D1.copy()\n",
    "    for i in range(r):\n",
    "        for j in range(c):\n",
    "            D1[i, j] += min(D0[i, j], D0[i, j+1], D0[i+1, j])\n",
    "    if len(x)==1:\n",
    "        path = zeros(len(y)), range(len(y))\n",
    "    elif len(y) == 1:\n",
    "        path = range(len(x)), zeros(len(x))\n",
    "    else:\n",
    "        path = _traceback(D0)\n",
    "    return (D1[-1, -1] / sum(D1.shape), C, D1, path)"
   ]
  },
  {
   "cell_type": "code",
   "execution_count": 27,
   "metadata": {
    "collapsed": true
   },
   "outputs": [],
   "source": [
    "#from sklearn.metrics.pairwise import euclidean_distances\n",
    "from scipy.spatial.distance import euclidean\n",
    "from nltk.metrics.distance import edit_distance\n",
    "from sklearn.metrics.pairwise import manhattan_distances\n",
    "\n",
    "dist_fun = euclidean"
   ]
  },
  {
   "cell_type": "code",
   "execution_count": 28,
   "metadata": {
    "collapsed": true
   },
   "outputs": [],
   "source": [
    "x = t1[0]\n",
    "y = t4[0]"
   ]
  },
  {
   "cell_type": "code",
   "execution_count": 29,
   "metadata": {},
   "outputs": [],
   "source": [
    "dist, cost, acc, path = fastdtw(x, y, dist_fun)"
   ]
  },
  {
   "cell_type": "code",
   "execution_count": 30,
   "metadata": {},
   "outputs": [
    {
     "data": {
      "image/png": "[encoded data removed]",
      "text/plain": [
       "<matplotlib.figure.Figure at 0xba90a52588>"
      ]
     },
     "metadata": {},
     "output_type": "display_data"
    }
   ],
   "source": [
    "# vizualize\n",
    "\n",
    "from matplotlib import pyplot as plt\n",
    "plt.imshow(cost.T, origin='lower', cmap=plt.cm.Reds, interpolation='nearest')\n",
    "plt.plot(path[0], path[1], '-o') # relation\n",
    "plt.xticks(range(len(x)), x)\n",
    "plt.yticks(range(len(y)), y)\n",
    "plt.xlabel('x')\n",
    "plt.ylabel('y')\n",
    "plt.axis('tight')\n",
    "plt.title('Minimum distance: {}'.format(dist))\n",
    "plt.show()"
   ]
  },
  {
   "cell_type": "code",
   "execution_count": 35,
   "metadata": {
    "collapsed": true
   },
   "outputs": [],
   "source": [
    "first_limit = t1.shape[0]-1\n",
    "second_limit = first_limit + t2.shape[0]\n",
    "third_limit = second_limit + t3.shape[0]"
   ]
  },
  {
   "cell_type": "code",
   "execution_count": 36,
   "metadata": {
    "collapsed": true
   },
   "outputs": [],
   "source": [
    "test_data = np.hstack((t4, t5, t6))"
   ]
  },
  {
   "cell_type": "code",
   "execution_count": 37,
   "metadata": {},
   "outputs": [
    {
     "name": "stdout",
     "output_type": "stream",
     "text": [
      "0:11:38.181014\n"
     ]
    }
   ],
   "source": [
    "from datetime import datetime\n",
    "startTime = datetime.now()\n",
    "\n",
    "predict = np.array([-1] * test_data.shape[0])\n",
    "min_dist = np.array([-1] * test_data.shape[0])\n",
    "\n",
    "for j in range(test_data.shape[0]):\n",
    "    y = test_data[j]\n",
    "    \n",
    "    distance = []\n",
    "    \n",
    "    for i in range(t1.shape[0]):\n",
    "        x = t1[i]\n",
    "        dist_fun = lambda x, y: np.linalg.norm(x - y, ord=1)\n",
    "        dist, cost, acc, path = fastdtw(x, y, dist_fun)\n",
    "        distance.append(dist)\n",
    "\n",
    "    for i in range(t2.shape[0]):\n",
    "        x = t2[i]\n",
    "        dist_fun = lambda x, y: np.linalg.norm(x - y, ord=1)\n",
    "        dist, cost, acc, path = fastdtw(x, y, dist_fun)\n",
    "        distance.append(dist)\n",
    "\n",
    "    for i in range(t3.shape[0]):\n",
    "        x = t3[i]\n",
    "        dist_fun = lambda x, y: np.linalg.norm(x - y, ord=1)\n",
    "        dist, cost, acc, path = fastdtw(x, y, dist_fun)\n",
    "        distance.append(dist)\n",
    "        \n",
    "    index = argmin(distance)\n",
    "    min_dist[j] = min(distance)\n",
    "\n",
    "    if index <= first_limit:\n",
    "        predict[j] = 1\n",
    "    elif index > first_limit and index <= second_limit:\n",
    "        predict[j] = 2\n",
    "    else:\n",
    "        predict[j] = 3\n",
    "        \n",
    "print(datetime.now() - startTime)"
   ]
  },
  {
   "cell_type": "code",
   "execution_count": 38,
   "metadata": {
    "collapsed": true
   },
   "outputs": [],
   "source": [
    "actual_test_labels = np.hstack((np.array([1]*X1_test.shape[0]), np.array([2]*X2_test.shape[0]), np.array([3]*X3_test.shape[0])))"
   ]
  },
  {
   "cell_type": "code",
   "execution_count": 39,
   "metadata": {},
   "outputs": [
    {
     "name": "stdout",
     "output_type": "stream",
     "text": [
      "Recognition rate 48.148148148148145%\n"
     ]
    }
   ],
   "source": [
    "score = 0\n",
    "descore = 0\n",
    "misclassified = []\n",
    "for i in range(test_data.shape[0]):\n",
    "    if actual_test_labels[i] == predict[i]:\n",
    "        score += 1\n",
    "    else:\n",
    "        descore += 1\n",
    "        misclassified.append(i)\n",
    "        \n",
    "rec_rate = score / test_data.shape[0]\n",
    "print('Recognition rate {}%'.format(100. * rec_rate))"
   ]
  },
  {
   "cell_type": "code",
   "execution_count": 42,
   "metadata": {},
   "outputs": [
    {
     "data": {
      "text/plain": [
       "array([ 0,  1,  3,  4,  5,  6,  7,  8,  9, 10, 11, 12, 13, 14, 16, 17, 19,\n",
       "       20, 22, 27, 30, 33, 34, 35, 41, 44, 45, 52])"
      ]
     },
     "execution_count": 42,
     "metadata": {},
     "output_type": "execute_result"
    }
   ],
   "source": [
    "np.array(misclassified).T"
   ]
  },
  {
   "cell_type": "code",
   "execution_count": 44,
   "metadata": {},
   "outputs": [
    {
     "name": "stdout",
     "output_type": "stream",
     "text": [
      "3\n",
      "3\n",
      "3\n",
      "3\n",
      "3\n",
      "3\n",
      "3\n",
      "3\n",
      "3\n",
      "3\n",
      "3\n",
      "3\n",
      "3\n",
      "3\n",
      "3\n",
      "3\n",
      "1\n",
      "3\n",
      "1\n",
      "3\n",
      "3\n",
      "3\n",
      "3\n",
      "3\n",
      "2\n",
      "2\n",
      "2\n",
      "2\n"
     ]
    }
   ],
   "source": []
  },
  {
   "cell_type": "code",
   "execution_count": null,
   "metadata": {
    "collapsed": true
   },
   "outputs": [],
   "source": []
  }
 ],
 "metadata": {
  "kernelspec": {
   "display_name": "Python 3",
   "language": "python",
   "name": "python3"
  },
  "language_info": {
   "codemirror_mode": {
    "name": "ipython",
    "version": 3
   },
   "file_extension": ".py",
   "mimetype": "text/x-python",
   "name": "python",
   "nbconvert_exporter": "python",
   "pygments_lexer": "ipython3",
   "version": "3.6.1"
  }
 },
 "nbformat": 4,
 "nbformat_minor": 2
}
