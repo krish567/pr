{
 "cells": [
  {
   "cell_type": "code",
   "execution_count": 1,
   "metadata": {},
   "outputs": [
    {
     "name": "stdout",
     "output_type": "stream",
     "text": [
      "Populating the interactive namespace from numpy and matplotlib\n"
     ]
    }
   ],
   "source": [
    "%pylab inline"
   ]
  },
  {
   "cell_type": "code",
   "execution_count": 17,
   "metadata": {},
   "outputs": [
    {
     "name": "stdout",
     "output_type": "stream",
     "text": [
      "2.8284271247461903\n"
     ]
    }
   ],
   "source": []
  },
  {
   "cell_type": "code",
   "execution_count": 2,
   "metadata": {},
   "outputs": [
    {
     "name": "stdout",
     "output_type": "stream",
     "text": [
      "{'stade', 'cocacola', 'zidane', 'biere', 'chaussure', 'beckham', 'ballon', 'jeuvideo', 'girondins', 'sofoot', 'manette', 'gants'}\n"
     ]
    }
   ],
   "source": [
    "with open('sounds/wavToTag.txt') as f:\n",
    "    labels = array([l.replace('\\n', '') for l in f.readlines()])\n",
    "    \n",
    "print(set(labels))"
   ]
  },
  {
   "cell_type": "code",
   "execution_count": 4,
   "metadata": {},
   "outputs": [
    {
     "data": {
      "text/plain": [
       "245"
      ]
     },
     "execution_count": 4,
     "metadata": {},
     "output_type": "execute_result"
    }
   ],
   "source": [
    "len(labels)"
   ]
  },
  {
   "cell_type": "code",
   "execution_count": 5,
   "metadata": {
    "collapsed": true
   },
   "outputs": [],
   "source": [
    "import librosa as lb"
   ]
  },
  {
   "cell_type": "code",
   "execution_count": 6,
   "metadata": {
    "collapsed": true
   },
   "outputs": [],
   "source": [
    "mfccs = {}\n",
    "\n",
    "for i in range(len(labels)):\n",
    "    # sr = sample rate\n",
    "    y, sr = lb.load('sounds/{}.wav' . format(i))\n",
    "    mfcc = lb.feature.mfcc(y, sr, n_mfcc=13)\n",
    "    mfccs[i] = mfcc.T"
   ]
  },
  {
   "cell_type": "code",
   "execution_count": 13,
   "metadata": {},
   "outputs": [],
   "source": [
    "# Generate Training and Testing data\n",
    "\n",
    "def generate_train_test_set(P):\n",
    "    train = []\n",
    "    test = []\n",
    "\n",
    "    for s in set(labels):\n",
    "        all = find(labels == s)\n",
    "        shuffle(all)\n",
    "        train += all[:-P].tolist()\n",
    "        test += all[-P:].tolist()\n",
    "        \n",
    "    return train, test"
   ]
  },
  {
   "cell_type": "code",
   "execution_count": 14,
   "metadata": {},
   "outputs": [],
   "source": [
    "from dtw import dtw\n",
    "\n",
    "# We use DP to speed up multiple tests\n",
    "D = ones((len(labels), len(labels))) * -1\n",
    "\n",
    "def cross_validation(train, test):\n",
    "    score = 0.0\n",
    "\n",
    "    for i in test:\n",
    "        x = mfccs[i]\n",
    "\n",
    "        dmin, jmin = inf, -1\n",
    "        for j in train:\n",
    "            y = mfccs[j]\n",
    "            \n",
    "            d = D[i, j]\n",
    "            if d == -1:\n",
    "                d, _, _, _ = dtw(x, y, dist=lambda x, y: norm(x - y, ord=1))\n",
    "                D[i, j] = d                \n",
    "\n",
    "            if d < dmin:\n",
    "                dmin = d\n",
    "                jmin = j\n",
    "\n",
    "        score += 1.0 if (labels[i] == labels[jmin]) else 0.0\n",
    "        \n",
    "    return score / len(test)"
   ]
  },
  {
   "cell_type": "code",
   "execution_count": 15,
   "metadata": {
    "scrolled": true
   },
   "outputs": [
    {
     "name": "stdout",
     "output_type": "stream",
     "text": [
      "Recognition rate 66.66666666666666%\n"
     ]
    }
   ],
   "source": [
    "train, test = generate_train_test_set(P=1)\n",
    "rec_rate = cross_validation(train, test)\n",
    "print('Recognition rate {}%'.format(100. * rec_rate))"
   ]
  },
  {
   "cell_type": "code",
   "execution_count": null,
   "metadata": {},
   "outputs": [],
   "source": [
    "P = arange(1, 10)\n",
    "N = 5\n",
    "\n",
    "rec = []\n",
    "\n",
    "for p in P:\n",
    "    r = [cross_validation(*generate_train_test_set(p)) for _ in range(N)]\n",
    "    rec.append(r)\n",
    "    \n",
    "rec = array(rec)\n",
    "rec = rec.reshape((N, -1))\n",
    "\n",
    "errorbar(P - 0.5, mean(rec, axis=0), yerr=std(rec, axis=0))\n",
    "xticks(P - 0.5, P)\n",
    "ylim(0, 1)"
   ]
  },
  {
   "cell_type": "code",
   "execution_count": null,
   "metadata": {
    "collapsed": true
   },
   "outputs": [],
   "source": []
  }
 ],
 "metadata": {
  "kernelspec": {
   "display_name": "Python 3",
   "language": "python",
   "name": "python3"
  },
  "language_info": {
   "codemirror_mode": {
    "name": "ipython",
    "version": 3
   },
   "file_extension": ".py",
   "mimetype": "text/x-python",
   "name": "python",
   "nbconvert_exporter": "python",
   "pygments_lexer": "ipython3",
   "version": "3.6.1"
  }
 },
 "nbformat": 4,
 "nbformat_minor": 2
}
