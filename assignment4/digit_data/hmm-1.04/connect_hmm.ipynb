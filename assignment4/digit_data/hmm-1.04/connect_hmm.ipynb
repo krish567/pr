{
 "cells": [
  {
   "cell_type": "code",
   "execution_count": 1,
   "metadata": {
    "collapsed": true
   },
   "outputs": [],
   "source": [
    "import numpy as np\n",
    "\n",
    "import glob"
   ]
  },
  {
   "cell_type": "code",
   "execution_count": 20,
   "metadata": {
    "collapsed": true
   },
   "outputs": [],
   "source": [
    "isolated_hmm_paths = glob.glob('d[0-9].out.hmm')"
   ]
  },
  {
   "cell_type": "code",
   "execution_count": 21,
   "metadata": {
    "collapsed": true
   },
   "outputs": [],
   "source": [
    "import itertools\n",
    "def generate_connected_sq(x):\n",
    "    return [p for p in itertools.product(x, repeat=3)]\n",
    "\n",
    "\n",
    "def read_hmm(path):\n",
    "    print(path)\n",
    "    with open(path, 'r') as f:\n",
    "        nb_state = int(f.readline().strip().split()[1])\n",
    "        nb_symbol = int(f.readline().strip().split()[1])\n",
    "        print(nb_state, nb_symbol)\n",
    "        matrix = []\n",
    "        for i in range(nb_state):\n",
    "            matrix.append(list(map(float, f.readline().strip().split())))\n",
    "            matrix.append(list(map(float, f.readline().strip().split())))\n",
    "            f.readline()\n",
    "    return matrix\n",
    "\n",
    "class hmm:\n",
    "    def __init__(self, matrix=['NA'], name = 'NA'):\n",
    "        self.matrix = np.array(matrix)\n",
    "        self.name = name\n",
    "    def set_matrix(self, matrix):\n",
    "        self.matrix = matrix\n",
    "    def get_matrix(self):\n",
    "        return self.matrix\n",
    "    def get_name(self):\n",
    "        return self.name\n",
    "\n",
    "class connected_hmms:\n",
    "    def __init__(self, list_hmms):\n",
    "        self.list_hmms = list_hmms\n",
    "        #self.connected_matrix = connect_hmms(self.list_hmm)\n",
    "        self.name = ''.join([i.get_name()+'_' for i in self.list_hmms])\n",
    "    \n",
    "    def get_matrix(self):\n",
    "        connected_matrix = self.list_hmms[0].get_matrix()\n",
    "        for i in range(len(self.list_hmms)-1):\n",
    "            connected_matrix = np.vstack((connected_matrix, self.list_hmms[i+1].get_matrix()))\n",
    "        return connected_matrix\n",
    "                            \n",
    "    def get_name(self):\n",
    "        return self.name"
   ]
  },
  {
   "cell_type": "code",
   "execution_count": 25,
   "metadata": {
    "scrolled": true
   },
   "outputs": [
    {
     "name": "stdout",
     "output_type": "stream",
     "text": [
      "d1.out.hmm\n",
      "6 16\n",
      "d2.out.hmm\n",
      "6 16\n",
      "d3.out.hmm\n",
      "6 16\n"
     ]
    }
   ],
   "source": [
    "list_iso_hmm = []\n",
    "for i in isolated_hmm_paths:\n",
    "    temp_mat = read_hmm(i)\n",
    "    temp_hmm = hmm(temp_mat, i.split('.')[0]) #i-> name for the hmm\n",
    "    list_iso_hmm.append(temp_hmm)\n",
    "    \n",
    "list_iso_hmm = np.array(list_iso_hmm)"
   ]
  },
  {
   "cell_type": "code",
   "execution_count": 26,
   "metadata": {
    "collapsed": true
   },
   "outputs": [],
   "source": [
    "list_seq_connected_hmms = generate_connected_sq(list_iso_hmm)\n",
    "list_connected_hmms = []\n",
    "\n",
    "for i in list_seq_connected_hmms:\n",
    "    list_connected_hmms.append(connected_hmms(i))"
   ]
  },
  {
   "cell_type": "code",
   "execution_count": 27,
   "metadata": {},
   "outputs": [
    {
     "name": "stdout",
     "output_type": "stream",
     "text": [
      "(36, 17)\n"
     ]
    },
    {
     "data": {
      "text/plain": [
       "'d2_d2_d3_'"
      ]
     },
     "execution_count": 27,
     "metadata": {},
     "output_type": "execute_result"
    }
   ],
   "source": [
    "print(list_connected_hmms[14].get_matrix().shape)\n",
    "list_connected_hmms[14].get_name()"
   ]
  },
  {
   "cell_type": "code",
   "execution_count": 28,
   "metadata": {
    "collapsed": true
   },
   "outputs": [],
   "source": [
    "def wite_hmm_file(list_connected_hmms, nb_states, nb_symbols):\n",
    "    for i in list_connected_hmms:\n",
    "        filename = i.get_name()\n",
    "        with open('chmms/'+filename, 'w') as f:\n",
    "            temp = i.get_matrix()\n",
    "            f.write('states: '+str(nb_states)+ '\\n')\n",
    "            f.write('symbols: '+str(nb_symbols)+ '\\n\\n')\n",
    "            for j in range(2*nb_states-1):\n",
    "                if j%2==0:\n",
    "                    temp_row = ''\n",
    "                    for probs in temp[j]:\n",
    "                        temp_row+=('%.6f' % probs)+' '\n",
    "                    f.write(temp_row+'\\n')\n",
    "                else :\n",
    "                    temp_row = ''\n",
    "                    for probs in temp[j]:\n",
    "                        temp_row+=('%.6f' % probs)+' '\n",
    "                    f.write(temp_row+'\\n\\n')\n",
    "            temp_row = ''\n",
    "            for probs in temp[-1]:\n",
    "                temp_row+=('%.6f' % probs)+' '\n",
    "            f.write(temp_row+'\\n')\n",
    "        print('Dumped as ', filename)"
   ]
  },
  {
   "cell_type": "code",
   "execution_count": 30,
   "metadata": {},
   "outputs": [
    {
     "name": "stdout",
     "output_type": "stream",
     "text": [
      "Dumped as  d1_d1_d1_\n",
      "Dumped as  d1_d1_d2_\n",
      "Dumped as  d1_d1_d3_\n",
      "Dumped as  d1_d2_d1_\n",
      "Dumped as  d1_d2_d2_\n",
      "Dumped as  d1_d2_d3_\n",
      "Dumped as  d1_d3_d1_\n",
      "Dumped as  d1_d3_d2_\n",
      "Dumped as  d1_d3_d3_\n",
      "Dumped as  d2_d1_d1_\n",
      "Dumped as  d2_d1_d2_\n",
      "Dumped as  d2_d1_d3_\n",
      "Dumped as  d2_d2_d1_\n",
      "Dumped as  d2_d2_d2_\n",
      "Dumped as  d2_d2_d3_\n",
      "Dumped as  d2_d3_d1_\n",
      "Dumped as  d2_d3_d2_\n",
      "Dumped as  d2_d3_d3_\n",
      "Dumped as  d3_d1_d1_\n",
      "Dumped as  d3_d1_d2_\n",
      "Dumped as  d3_d1_d3_\n",
      "Dumped as  d3_d2_d1_\n",
      "Dumped as  d3_d2_d2_\n",
      "Dumped as  d3_d2_d3_\n",
      "Dumped as  d3_d3_d1_\n",
      "Dumped as  d3_d3_d2_\n",
      "Dumped as  d3_d3_d3_\n"
     ]
    }
   ],
   "source": [
    "wite_hmm_file(list_connected_hmms, 6*3, 16)"
   ]
  },
  {
   "cell_type": "code",
   "execution_count": null,
   "metadata": {
    "collapsed": true
   },
   "outputs": [],
   "source": []
  }
 ],
 "metadata": {
  "kernelspec": {
   "display_name": "Python 3",
   "language": "python",
   "name": "python3"
  },
  "language_info": {
   "codemirror_mode": {
    "name": "ipython",
    "version": 3
   },
   "file_extension": ".py",
   "mimetype": "text/x-python",
   "name": "python",
   "nbconvert_exporter": "python",
   "pygments_lexer": "ipython3",
   "version": "3.6.1"
  }
 },
 "nbformat": 4,
 "nbformat_minor": 2
}
