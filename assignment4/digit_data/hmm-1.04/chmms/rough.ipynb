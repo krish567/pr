{
 "cells": [
  {
   "cell_type": "code",
   "execution_count": 9,
   "metadata": {
    "collapsed": true
   },
   "outputs": [],
   "source": [
    "import numpy as np\n",
    "import glob\n",
    "\n",
    "files = glob.glob('*_')"
   ]
  },
  {
   "cell_type": "code",
   "execution_count": 26,
   "metadata": {},
   "outputs": [],
   "source": [
    "file_lines = []\n",
    "for file in files:\n",
    "    lines = None\n",
    "    with open(file) as f:\n",
    "        lines = f.readlines()\n",
    "    file_lines.append(lines)\n",
    "\n",
    "file_lines = np.array(file_lines)"
   ]
  },
  {
   "cell_type": "code",
   "execution_count": 65,
   "metadata": {},
   "outputs": [
    {
     "data": {
      "text/plain": [
       "(27, 56)"
      ]
     },
     "execution_count": 65,
     "metadata": {},
     "output_type": "execute_result"
    }
   ],
   "source": [
    "file_lines.shape"
   ]
  },
  {
   "cell_type": "code",
   "execution_count": 34,
   "metadata": {},
   "outputs": [
    {
     "name": "stdout",
     "output_type": "stream",
     "text": [
      "(56,)\n",
      "(56,)\n",
      "(56,)\n",
      "(56,)\n",
      "(56,)\n",
      "(56,)\n",
      "(56,)\n",
      "(56,)\n",
      "(56,)\n",
      "(56,)\n",
      "(56,)\n",
      "(56,)\n",
      "(56,)\n",
      "(56,)\n",
      "(56,)\n",
      "(56,)\n",
      "(56,)\n",
      "(56,)\n",
      "(56,)\n",
      "(56,)\n",
      "(56,)\n",
      "(56,)\n",
      "(56,)\n",
      "(56,)\n",
      "(56,)\n",
      "(56,)\n",
      "(56,)\n"
     ]
    }
   ],
   "source": [
    "file_count = 0\n",
    "for file in file_lines:\n",
    "    filename = file_lines[file_count]+'dummy'\n",
    "    line_val = 0\n",
    "    with open(filename, 'w') as f:\n",
    "        nb_state = (file[0].strip().split(' '))[1]//3\n",
    "        n_max = nb_state*3*3 +2 #3-rows in text file, 3-combinations\n",
    "        while(line_val<n_max)\n",
    "        f.write(file[line_val])\n",
    "        line_val+=1\n",
    "        f.write(file[1])\n",
    "        line_val+=1\n",
    "        if line_val+1\n",
    "        \n",
    "        \n",
    "        "
   ]
  },
  {
   "cell_type": "code",
   "execution_count": 52,
   "metadata": {},
   "outputs": [
    {
     "data": {
      "text/plain": [
       "(56,)"
      ]
     },
     "execution_count": 52,
     "metadata": {},
     "output_type": "execute_result"
    }
   ],
   "source": [
    "temp = file_lines[0].shape"
   ]
  },
  {
   "cell_type": "code",
   "execution_count": 62,
   "metadata": {},
   "outputs": [
    {
     "name": "stdout",
     "output_type": "stream",
     "text": [
      "0.000001 0.072549 0.069608 0.010784 0.082353 0.096078 0.097059 0.077451 0.002941 0.095098 0.057843 0.061765 0.022549 0.009804 0.080392 0.083333 0.080392 \n",
      "\n",
      "0.000001 0.072549 0.069608 0.010784 0.082353 0.096078 0.097059 0.077451 0.002941 0.095098 0.057843 0.061765 0.022549 0.009804 0.080392 0.083333 0.080392 \n",
      "\n",
      "0.000001 0.072549 0.069608 0.010784 0.082353 0.096078 0.097059 0.077451 0.002941 0.095098 0.057843 0.061765 0.022549 0.009804 0.080392 0.083333 0.080392 \n",
      "\n"
     ]
    }
   ],
   "source": [
    "for i in range(1,4):\n",
    "    state_end_index = 2+3*6*i-1\n",
    "    l_temp = temp[0][state_end_index-1].strip().split(' ') #19\n",
    "    print(temp[0][state_end_index]) #20"
   ]
  },
  {
   "cell_type": "code",
   "execution_count": 61,
   "metadata": {},
   "outputs": [
    {
     "data": {
      "text/plain": [
       "'1.0000000.0092630.0000010.0000010.0000010.0353150.4369160.0000010.0000010.0000010.0000010.0000010.0000010.2789620.2395440.0000010.000001'"
      ]
     },
     "execution_count": 61,
     "metadata": {},
     "output_type": "execute_result"
    }
   ],
   "source": [
    "''.join(temp[0][2+3*6*1-1-1].strip().split(' '))"
   ]
  },
  {
   "cell_type": "code",
   "execution_count": 63,
   "metadata": {},
   "outputs": [
    {
     "data": {
      "text/plain": [
       "['1.000000',\n",
       " '0.009263',\n",
       " '0.000001',\n",
       " '0.000001',\n",
       " '0.000001',\n",
       " '0.035315',\n",
       " '0.436916',\n",
       " '0.000001',\n",
       " '0.000001',\n",
       " '0.000001',\n",
       " '0.000001',\n",
       " '0.000001',\n",
       " '0.000001',\n",
       " '0.278962',\n",
       " '0.239544',\n",
       " '0.000001',\n",
       " '0.000001']"
      ]
     },
     "execution_count": 63,
     "metadata": {},
     "output_type": "execute_result"
    }
   ],
   "source": [
    "l_temp\n"
   ]
  },
  {
   "cell_type": "code",
   "execution_count": null,
   "metadata": {
    "collapsed": true
   },
   "outputs": [],
   "source": []
  }
 ],
 "metadata": {
  "kernelspec": {
   "display_name": "Python 3",
   "language": "python",
   "name": "python3"
  },
  "language_info": {
   "codemirror_mode": {
    "name": "ipython",
    "version": 3
   },
   "file_extension": ".py",
   "mimetype": "text/x-python",
   "name": "python",
   "nbconvert_exporter": "python",
   "pygments_lexer": "ipython3",
   "version": "3.6.1"
  }
 },
 "nbformat": 4,
 "nbformat_minor": 2
}
