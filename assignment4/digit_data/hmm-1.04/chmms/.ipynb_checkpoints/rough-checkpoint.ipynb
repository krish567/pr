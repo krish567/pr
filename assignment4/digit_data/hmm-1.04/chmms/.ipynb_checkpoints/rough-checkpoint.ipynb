{
 "cells": [
  {
   "cell_type": "code",
   "execution_count": 7,
   "metadata": {
    "collapsed": true
   },
   "outputs": [],
   "source": [
    "import numpy as np\n",
    "import glob\n",
    "\n",
    "files = glob.glob('*_')"
   ]
  },
  {
   "cell_type": "code",
   "execution_count": 8,
   "metadata": {},
   "outputs": [
    {
     "data": {
      "text/plain": [
       "['d1.out.hmm_d1.out.hmm_d1.out.hmm_',\n",
       " 'd1.out.hmm_d1.out.hmm_d2.out.hmm_',\n",
       " 'd1.out.hmm_d1.out.hmm_d3.out.hmm_',\n",
       " 'd1.out.hmm_d2.out.hmm_d1.out.hmm_',\n",
       " 'd1.out.hmm_d2.out.hmm_d2.out.hmm_',\n",
       " 'd1.out.hmm_d2.out.hmm_d3.out.hmm_',\n",
       " 'd1.out.hmm_d3.out.hmm_d1.out.hmm_',\n",
       " 'd1.out.hmm_d3.out.hmm_d2.out.hmm_',\n",
       " 'd1.out.hmm_d3.out.hmm_d3.out.hmm_',\n",
       " 'd1_labels.out.hmm_d1_labels.out.hmm_d1_labels.out.hmm_',\n",
       " 'd1_labels.out.hmm_d1_labels.out.hmm_d2_labels.out.hmm_',\n",
       " 'd2_labels.out.hmm_d1_labels.out.hmm_d3_labels.out.hmm_',\n",
       " 'd2_labels.out.hmm_d2_labels.out.hmm_d1_labels.out.hmm_',\n",
       " 'd2_labels.out.hmm_d2_labels.out.hmm_d2_labels.out.hmm_',\n",
       " 'd2_labels.out.hmm_d2_labels.out.hmm_d3_labels.out.hmm_',\n",
       " 'd2_labels.out.hmm_d3_labels.out.hmm_d1_labels.out.hmm_',\n",
       " 'd2_labels.out.hmm_d3_labels.out.hmm_d2_labels.out.hmm_',\n",
       " 'd2_labels.out.hmm_d3_labels.out.hmm_d3_labels.out.hmm_',\n",
       " 'd3.out.hmm_d1.out.hmm_d1.out.hmm_',\n",
       " 'd3.out.hmm_d1.out.hmm_d2.out.hmm_',\n",
       " 'd3.out.hmm_d1.out.hmm_d3.out.hmm_',\n",
       " 'd3.out.hmm_d2.out.hmm_d1.out.hmm_',\n",
       " 'd1_labels.out.hmm_d2_labels.out.hmm_d1_labels.out.hmm_',\n",
       " 'd1_labels.out.hmm_d2_labels.out.hmm_d2_labels.out.hmm_',\n",
       " 'd1_labels.out.hmm_d2_labels.out.hmm_d3_labels.out.hmm_',\n",
       " 'd1_labels.out.hmm_d3_labels.out.hmm_d1_labels.out.hmm_',\n",
       " 'd1_labels.out.hmm_d3_labels.out.hmm_d2_labels.out.hmm_',\n",
       " 'd1_labels.out.hmm_d3_labels.out.hmm_d3_labels.out.hmm_',\n",
       " 'd2.out.hmm_d1.out.hmm_d1.out.hmm_',\n",
       " 'd2.out.hmm_d1.out.hmm_d2.out.hmm_',\n",
       " 'd2.out.hmm_d1.out.hmm_d3.out.hmm_',\n",
       " 'd2.out.hmm_d2.out.hmm_d1.out.hmm_',\n",
       " 'd2.out.hmm_d2.out.hmm_d2.out.hmm_',\n",
       " 'd2.out.hmm_d2.out.hmm_d3.out.hmm_',\n",
       " 'd2.out.hmm_d3.out.hmm_d1.out.hmm_',\n",
       " 'd2.out.hmm_d3.out.hmm_d2.out.hmm_',\n",
       " 'd2.out.hmm_d3.out.hmm_d3.out.hmm_',\n",
       " 'd2_labels.out.hmm_d1_labels.out.hmm_d1_labels.out.hmm_',\n",
       " 'd1_labels.out.hmm_d1_labels.out.hmm_d3_labels.out.hmm_',\n",
       " 'd2_labels.out.hmm_d1_labels.out.hmm_d2_labels.out.hmm_',\n",
       " 'd3.out.hmm_d2.out.hmm_d2.out.hmm_',\n",
       " 'd3.out.hmm_d2.out.hmm_d3.out.hmm_',\n",
       " 'd3.out.hmm_d3.out.hmm_d1.out.hmm_',\n",
       " 'd3.out.hmm_d3.out.hmm_d2.out.hmm_',\n",
       " 'd3.out.hmm_d3.out.hmm_d3.out.hmm_',\n",
       " 'd3_labels.out.hmm_d1_labels.out.hmm_d1_labels.out.hmm_',\n",
       " 'd3_labels.out.hmm_d1_labels.out.hmm_d2_labels.out.hmm_',\n",
       " 'd3_labels.out.hmm_d1_labels.out.hmm_d3_labels.out.hmm_',\n",
       " 'd3_labels.out.hmm_d2_labels.out.hmm_d1_labels.out.hmm_',\n",
       " 'd3_labels.out.hmm_d2_labels.out.hmm_d2_labels.out.hmm_',\n",
       " 'd3_labels.out.hmm_d2_labels.out.hmm_d3_labels.out.hmm_',\n",
       " 'd3_labels.out.hmm_d3_labels.out.hmm_d1_labels.out.hmm_',\n",
       " 'd3_labels.out.hmm_d3_labels.out.hmm_d2_labels.out.hmm_',\n",
       " 'd3_labels.out.hmm_d3_labels.out.hmm_d3_labels.out.hmm_']"
      ]
     },
     "execution_count": 8,
     "metadata": {},
     "output_type": "execute_result"
    }
   ],
   "source": [
    "files"
   ]
  },
  {
   "cell_type": "code",
   "execution_count": null,
   "metadata": {
    "collapsed": true
   },
   "outputs": [],
   "source": []
  }
 ],
 "metadata": {
  "kernelspec": {
   "display_name": "Python 3",
   "language": "python",
   "name": "python3"
  },
  "language_info": {
   "codemirror_mode": {
    "name": "ipython",
    "version": 3
   },
   "file_extension": ".py",
   "mimetype": "text/x-python",
   "name": "python",
   "nbconvert_exporter": "python",
   "pygments_lexer": "ipython3",
   "version": "3.6.1"
  }
 },
 "nbformat": 4,
 "nbformat_minor": 2
}
