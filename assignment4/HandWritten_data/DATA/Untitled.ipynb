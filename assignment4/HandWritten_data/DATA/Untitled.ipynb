{
 "cells": [
  {
   "cell_type": "code",
   "execution_count": 1,
   "metadata": {
    "collapsed": true
   },
   "outputs": [],
   "source": [
    "import matplotlib.pyplot as plt\n",
    "import numpy as np"
   ]
  },
  {
   "cell_type": "code",
   "execution_count": 2,
   "metadata": {
    "collapsed": true
   },
   "outputs": [],
   "source": [
    "def mean(X):\n",
    "    return sum(X) / X.shape[0]"
   ]
  },
  {
   "cell_type": "code",
   "execution_count": 3,
   "metadata": {
    "collapsed": true
   },
   "outputs": [],
   "source": [
    "# NOTE :- np.var(X) is a biased variance....uses N instead of N-1\n",
    "def variance(X):\n",
    "    c = 1 / (X.shape[0] - 1)\n",
    "    mu = mean(X)\n",
    "    var = c * sum((X - mu)**2)\n",
    "    return var"
   ]
  },
  {
   "cell_type": "code",
   "execution_count": 4,
   "metadata": {
    "collapsed": true
   },
   "outputs": [],
   "source": [
    "def sd(X):\n",
    "    return np.sqrt(variance(X))"
   ]
  },
  {
   "cell_type": "code",
   "execution_count": 5,
   "metadata": {},
   "outputs": [],
   "source": [
    "def normalization_factor(X, Y):\n",
    "    return np.sqrt(sum((X - mean(X))**2 + (Y - mean(Y))**2))"
   ]
  },
  {
   "cell_type": "code",
   "execution_count": 6,
   "metadata": {
    "collapsed": true
   },
   "outputs": [],
   "source": [
    "### Do all the following feature extraction on size normalized X and Y coordinates"
   ]
  },
  {
   "cell_type": "code",
   "execution_count": 7,
   "metadata": {
    "collapsed": true
   },
   "outputs": [],
   "source": [
    "# Feature 1\n",
    "def size_normalization(X):\n",
    "    return ((X - min(X)) / (max(X) - min(X)))"
   ]
  },
  {
   "cell_type": "code",
   "execution_count": 8,
   "metadata": {
    "collapsed": true
   },
   "outputs": [],
   "source": [
    "# Feature 2\n",
    "# X and Y should be normalized or not?\n",
    "# X and Y are not normalized, mu_x and mu_y are the means of normalized X and Y coordinates\n",
    "\n",
    "def deviation_feature_1(X, Y):\n",
    "    v1 = (X - mean(X)) / sd(Y)  # it should be sd(X) ?\n",
    "    v2 = (Y - mean(Y)) / sd(X)\n",
    "    return (v1, v2)"
   ]
  },
  {
   "cell_type": "code",
   "execution_count": 9,
   "metadata": {
    "collapsed": true
   },
   "outputs": [],
   "source": [
    "# Feature 3\n",
    "def deviation_feature_2(X, Y):\n",
    "    v1 = (X - mean(X)) / normalization_factor(X, Y)\n",
    "    v2 = (Y - mean(Y)) / normalization_factor(X, Y)\n",
    "    return (v1, v2)"
   ]
  },
  {
   "cell_type": "code",
   "execution_count": 10,
   "metadata": {
    "collapsed": true
   },
   "outputs": [],
   "source": [
    "# Feature 4\n",
    "def zero_mean_feature(X, Y):\n",
    "    v1 = (X - mean(X))\n",
    "    v2 = (Y - mean(Y))\n",
    "    return (v1, v2)"
   ]
  },
  {
   "cell_type": "code",
   "execution_count": 11,
   "metadata": {
    "collapsed": true
   },
   "outputs": [],
   "source": [
    "# Feature 5\n",
    "def distance_from_origin(X, Y):\n",
    "    return np.sqrt(X**2 + Y**2)"
   ]
  },
  {
   "cell_type": "code",
   "execution_count": 59,
   "metadata": {
    "collapsed": true
   },
   "outputs": [],
   "source": [
    "# Feature 6\n",
    "def direction_with_horizontal_axis(X, Y):\n",
    "    R = distance_from_origin(X, Y)\n",
    "    return np.arccos(X/R)"
   ]
  },
  {
   "cell_type": "code",
   "execution_count": 60,
   "metadata": {
    "collapsed": true
   },
   "outputs": [],
   "source": [
    "# Feature 8\n",
    "def distance_from_next_point(X, Y):\n",
    "    R = distance_from_origin(X, Y)\n",
    "    tmp = R\n",
    "    tmp[0] = R[0]\n",
    "    for i in range(1, R.shape[0]):\n",
    "        tmp[i] = R[i] - R[i-1]\n",
    "    return tmp    "
   ]
  },
  {
   "cell_type": "code",
   "execution_count": 61,
   "metadata": {
    "collapsed": true
   },
   "outputs": [],
   "source": [
    "# Feature 9\n",
    "def angle_with_next_point(X, Y):\n",
    "    theta = direction_with_horizontal_axis(X, Y)\n",
    "    tmp = theta\n",
    "    tmp[0] = theta[0]\n",
    "    for i in range(1, theta.shape[0]):\n",
    "        tmp[i] = theta[i] - theta[i-1]\n",
    "    return tmp   "
   ]
  },
  {
   "cell_type": "code",
   "execution_count": 62,
   "metadata": {
    "collapsed": true
   },
   "outputs": [],
   "source": [
    "# Feature 11\n",
    "def distance_from_centroid(X, Y):\n",
    "    x_centroid = mean(X)\n",
    "    y_centroid = mean(Y)\n",
    "    return np.sqrt((x_centroid - X)**2 + (x_centroid - Y)**2)"
   ]
  },
  {
   "cell_type": "code",
   "execution_count": 70,
   "metadata": {
    "collapsed": true
   },
   "outputs": [],
   "source": [
    "# Feature 12\n",
    "def direction_with_centroid(X, Y):\n",
    "    x_centroid = mean(X)\n",
    "    y_centroid = mean(Y)\n",
    "    return np.arctan((y_centroid - Y) / (x_centroid - X))"
   ]
  },
  {
   "cell_type": "code",
   "execution_count": 64,
   "metadata": {
    "collapsed": true
   },
   "outputs": [],
   "source": [
    "def plot_without_normalization(X, Y):\n",
    "    plt.scatter(X, Y, s=50, c= 'cyan', alpha=0.5)\n",
    "    plt.show()"
   ]
  },
  {
   "cell_type": "code",
   "execution_count": 65,
   "metadata": {
    "collapsed": true
   },
   "outputs": [],
   "source": [
    "def plot_with_normalization(X, Y):\n",
    "    plt.scatter(size_normalization(X), size_normalization(Y), s=50, c= 'cyan', alpha=0.5)\n",
    "    plt.show()"
   ]
  },
  {
   "cell_type": "code",
   "execution_count": 66,
   "metadata": {},
   "outputs": [],
   "source": [
    "pair_1 = [0.254967, 0.345033, 0.261589, 0.351656, 0.268212, 0.358278, 0.274834, 0.364901, 0.281457, 0.384768, 0.288079, 0.391391, 0.288079, 0.398013, 0.288079, 0.411258, 0.288079, 0.417881, 0.274834, 0.424503, 0.268212, 0.424503, 0.254967, 0.431126, 0.235099, 0.437748, 0.215232, 0.437748, 0.201987, 0.437748, 0.188742, 0.437748, 0.175497, 0.431126, 0.162252, 0.424503, 0.149007, 0.411258, 0.142384, 0.391391, 0.135762, 0.371523, 0.135762, 0.318543, 0.135762, 0.292053, 0.149007, 0.265563, 0.155629, 0.245695, 0.168874, 0.225828, 0.188742, 0.212583, 0.208609, 0.199338, 0.228477, 0.186093, 0.248344, 0.172848, 0.294702 ,0.152980, 0.314570, 0.152980, 0.341060, 0.146358, 0.380795, 0.146358, 0.407285, 0.146358, 0.427152, 0.152980, 0.460265, 0.179470, 0.466887, 0.192715, 0.473510, 0.212583, 0.473510, 0.239073, 0.473510, 0.258940, 0.473510, 0.298675, 0.460265, 0.318543, 0.453642, 0.331788, 0.440397, 0.338411, 0.420530, 0.351656, 0.413907, 0.351656, 0.400662, 0.358278, 0.394040, 0.358278, 0.387417, 0.351656, 0.380795, 0.338411, 0.380795, 0.325166, 0.380795, 0.318543, 0.380795, 0.305298, 0.380795, 0.278808, 0.380795, 0.272185, 0.380795, 0.258940, 0.374172, 0.252318, 0.367550, 0.245695, 0.354305, 0.239073, 0.347682, 0.239073, 0.334437, 0.232450, 0.288079, 0.232450, 0.268212, 0.232450, 0.241722, 0.232450, 0.221854, 0.239073, 0.188742, 0.245695, 0.182119, 0.245695, 0.168874, 0.252318, 0.149007, 0.252318, 0.142384, 0.258940, 0.135762, 0.258940, 0.129139, 0.258940, 0.122517, 0.258940]\n",
    "pair_2 = [0.307947, 0.345033, 0.314570, 0.338411, 0.321192, 0.338411, 0.334437, 0.331788, 0.341060, 0.331788, 0.347682, 0.331788, 0.360927, 0.331788, 0.374172, 0.338411, 0.380795, 0.345033, 0.394040, 0.364901, 0.400662, 0.371523, 0.400662, 0.378146, 0.400662, 0.391391, 0.394040, 0.391391, 0.380795, 0.398013, 0.374172, 0.398013, 0.367550, 0.398013, 0.354305, 0.398013, 0.354305, 0.391391, 0.341060, 0.384768, 0.334437, 0.378146, 0.327815, 0.364901, 0.321192, 0.358278, 0.321192, 0.351656, 0.314570, 0.345033, 0.314570, 0.331788, 0.321192, 0.318543, 0.321192, 0.311921, 0.327815, 0.305298, 0.341060, 0.292053, 0.347682, 0.285430, 0.367550, 0.278808, 0.374172, 0.278808, 0.394040, 0.278808, 0.420530, 0.272185, 0.440397, 0.272185, 0.466887, 0.272185, 0.473510, 0.272185, 0.500000, 0.272185, 0.526490, 0.278808, 0.546358, 0.285430, 0.572848, 0.292053, 0.592715, 0.305298, 0.605960, 0.311921, 0.619205, 0.331788, 0.625828, 0.338411, 0.632450, 0.351656, 0.632450, 0.364901, 0.632450, 0.371523, 0.632450, 0.384768, 0.632450, 0.391391, 0.625828, 0.391391, 0.619205, 0.398013, 0.612583, 0.398013, 0.605960, 0.398013, 0.599338, 0.398013, 0.586093, 0.391391, 0.579470, 0.384768, 0.572848, 0.378146, 0.572848, 0.371523, 0.572848, 0.364901, 0.566225, 0.358278, 0.566225, 0.351656, 0.566225, 0.345033, 0.559603, 0.338411, 0.552980, 0.331788, 0.546358, 0.331788, 0.533113, 0.325166, 0.526490, 0.318543, 0.513245, 0.318543, 0.500000, 0.318543, 0.493377, 0.311921, 0.480132, 0.311921, 0.466887, 0.311921, 0.460265, 0.311921, 0.447020, 0.311921, 0.440397, 0.311921, 0.433775, 0.311921, 0.427152, 0.311921]"
   ]
  },
  {
   "cell_type": "code",
   "execution_count": 67,
   "metadata": {},
   "outputs": [],
   "source": [
    "def coordinates(pair):\n",
    "    x = []\n",
    "    y = []\n",
    "    for i in range(len(pair)):\n",
    "        if i%2==0:\n",
    "            x.append(pair[i])\n",
    "        else:\n",
    "            y.append(pair[i])\n",
    "        \n",
    "    return np.array(x),np.array(y)"
   ]
  },
  {
   "cell_type": "code",
   "execution_count": 68,
   "metadata": {},
   "outputs": [],
   "source": [
    "X, Y = coordinates(pair_1)"
   ]
  },
  {
   "cell_type": "code",
   "execution_count": 21,
   "metadata": {
    "collapsed": true
   },
   "outputs": [
    {
     "data": {
      "image/png": "[encoded data removed]",
      "text/plain": [
       "<matplotlib.figure.Figure at 0x5096a9dda0>"
      ]
     },
     "metadata": {},
     "output_type": "display_data"
    },
    {
     "data": {
      "image/png": "[encoded data removed]",
      "text/plain": [
       "<matplotlib.figure.Figure at 0x5096a9dd68>"
      ]
     },
     "metadata": {},
     "output_type": "display_data"
    }
   ],
   "source": [
    "plot_without_normalization(X, Y)\n",
    "plot_with_normalization(X, Y)"
   ]
  },
  {
   "cell_type": "code",
   "execution_count": 71,
   "metadata": {},
   "outputs": [],
   "source": [
    "no_of_coordinates = X.shape[0]\n",
    "no_of_features = 14\n",
    "data_point = np.zeros((no_of_coordinates, no_of_features))\n",
    "\n",
    "X = size_normalization(X)\n",
    "Y = size_normalization(Y)\n",
    "\n",
    "data_point[: , 0] = X\n",
    "data_point[: , 1] = Y\n",
    "data_point[: , 2], data_point[: , 3]   = deviation_feature_1(X, Y)\n",
    "data_point[: , 4], data_point[: , 5]   = deviation_feature_2(X, Y)\n",
    "data_point[: , 6], data_point[: , 7]   = zero_mean_feature(X, Y)\n",
    "data_point[: , 8]                      = distance_from_origin(X, Y)\n",
    "data_point[: , 9]                      = direction_with_horizontal_axis(X, Y)\n",
    "data_point[: , 10]                     = distance_from_next_point(X, Y)\n",
    "data_point[: , 11]                     = angle_with_next_point(X, Y)\n",
    "data_point[: , 12]                     = distance_from_centroid(X, Y)\n",
    "data_point[: , 13]                     = direction_with_centroid(X, Y)"
   ]
  },
  {
   "cell_type": "code",
   "execution_count": 75,
   "metadata": {},
   "outputs": [
    {
     "data": {
      "text/plain": [
       "(74, 14)"
      ]
     },
     "execution_count": 75,
     "metadata": {},
     "output_type": "execute_result"
    }
   ],
   "source": [
    "data_point.shape"
   ]
  },
  {
   "cell_type": "code",
   "execution_count": null,
   "metadata": {
    "collapsed": true
   },
   "outputs": [],
   "source": []
  }
 ],
 "metadata": {
  "kernelspec": {
   "display_name": "Python 3",
   "language": "python",
   "name": "python3"
  },
  "language_info": {
   "codemirror_mode": {
    "name": "ipython",
    "version": 3
   },
   "file_extension": ".py",
   "mimetype": "text/x-python",
   "name": "python",
   "nbconvert_exporter": "python",
   "pygments_lexer": "ipython3",
   "version": "3.6.1"
  }
 },
 "nbformat": 4,
 "nbformat_minor": 2
}
