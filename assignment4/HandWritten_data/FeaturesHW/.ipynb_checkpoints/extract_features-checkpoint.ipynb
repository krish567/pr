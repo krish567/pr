{
 "cells": [
  {
   "cell_type": "code",
   "execution_count": 1,
   "metadata": {
    "collapsed": true
   },
   "outputs": [],
   "source": [
    "import numpy as np\n",
    "import glob"
   ]
  },
  {
   "cell_type": "code",
   "execution_count": 2,
   "metadata": {
    "collapsed": true
   },
   "outputs": [],
   "source": [
    "characters_filename = glob.glob('*.ldf')\n",
    "dict_character = {}"
   ]
  },
  {
   "cell_type": "code",
   "execution_count": 3,
   "metadata": {
    "collapsed": true
   },
   "outputs": [],
   "source": [
    "for i in characters_filename:\n",
    "    char = i.split('.')[0]\n",
    "    dict_character[char] = []\n",
    "    with open(i) as f:\n",
    "        while f.readline()!='':\n",
    "            f.readline()\n",
    "            dict_character[char].append(f.readline().strip().split())"
   ]
  },
  {
   "cell_type": "code",
   "execution_count": 6,
   "metadata": {},
   "outputs": [
    {
     "name": "stdout",
     "output_type": "stream",
     "text": [
      "Dumped files in specific folders a\n",
      "Dumped files in specific folders ai\n",
      "Dumped files in specific folders bA\n",
      "Dumped files in specific folders chA\n",
      "Dumped files in specific folders dA\n",
      "Dumped files in specific folders lA\n",
      "Dumped files in specific folders tA\n",
      "Dumped files in specific folders test\n"
     ]
    }
   ],
   "source": [
    "import os\n",
    "for i in dict_character:\n",
    "    os.mkdir(i)\n",
    "\n",
    "for i in dict_character:\n",
    "    temp = dict_character[i]\n",
    "    count = 0\n",
    "    for items in temp:\n",
    "        n = int(items[0])\n",
    "        temp_x = []\n",
    "        for j in range(1, 2*n+1, 2):\n",
    "            temp_x.append([items[j], items[j+1]])\n",
    "        temp_x = np.array(temp_x)\n",
    "        path = str(i)+'/'+str(count)+'.txt'\n",
    "        np.set_printoptions(threshold=np.inf, linewidth=np.inf)  # turn off summarization, line-wrapping\n",
    "        with open(path, 'w') as f:\n",
    "            for j in temp_x:\n",
    "                f.write(str(j[0])+ ' '+ str(j[1])+'\\n')\n",
    "        count+=1\n",
    "    print(\"Dumped files in specific folders\",i)"
   ]
  },
  {
   "cell_type": "code",
   "execution_count": null,
   "metadata": {
    "collapsed": true
   },
   "outputs": [],
   "source": []
  }
 ],
 "metadata": {
  "kernelspec": {
   "display_name": "Python 3",
   "language": "python",
   "name": "python3"
  },
  "language_info": {
   "codemirror_mode": {
    "name": "ipython",
    "version": 3
   },
   "file_extension": ".py",
   "mimetype": "text/x-python",
   "name": "python",
   "nbconvert_exporter": "python",
   "pygments_lexer": "ipython3",
   "version": "3.6.1"
  }
 },
 "nbformat": 4,
 "nbformat_minor": 2
}
