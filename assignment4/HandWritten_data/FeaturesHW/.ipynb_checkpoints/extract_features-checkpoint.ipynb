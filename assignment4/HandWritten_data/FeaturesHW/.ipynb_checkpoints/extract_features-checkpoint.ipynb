{
 "cells": [
  {
   "cell_type": "code",
   "execution_count": 2,
   "metadata": {
    "collapsed": true
   },
   "outputs": [],
   "source": [
    "import numpy as np\n",
    "import glob"
   ]
  },
  {
   "cell_type": "code",
   "execution_count": 6,
   "metadata": {},
   "outputs": [],
   "source": [
    "filename = glob.glob('test_data/a-bA-tA/*')"
   ]
  },
  {
   "cell_type": "code",
   "execution_count": 7,
   "metadata": {},
   "outputs": [],
   "source": [
    "import scipy.io as spio\n",
    "\n",
    "temp = spio.loadmat(filename[0], squeeze_me=True)\n",
    "sq1_x, sq1_y = (temp['xData'], temp['yData'])\n",
    "\n",
    "temp = spio.loadmat(filename[0], squeeze_me=True)\n",
    "sq2_x, sq2_y = (temp['xData'], temp['yData'])\n",
    "\n",
    "temp = spio.loadmat(filename[0], squeeze_me=True)\n",
    "sq3_x, sq3_y = (temp['xData'], temp['yData'])"
   ]
  },
  {
   "cell_type": "code",
   "execution_count": 22,
   "metadata": {},
   "outputs": [],
   "source": [
    "np.savetxt('test_data/a-bA-tA/1.txt', np.column_stack((sq1_x, sq1_y)))\n",
    "np.savetxt('test_data/a-bA-tA/2.txt', np.column_stack((sq2_x, sq2_y)))\n",
    "np.savetxt('test_data/a-bA-tA/3.txt', np.column_stack((sq3_x, sq3_y)))"
   ]
  }
 ],
 "metadata": {
  "kernelspec": {
   "display_name": "Python 3",
   "language": "python",
   "name": "python3"
  },
  "language_info": {
   "codemirror_mode": {
    "name": "ipython",
    "version": 3
   },
   "file_extension": ".py",
   "mimetype": "text/x-python",
   "name": "python",
   "nbconvert_exporter": "python",
   "pygments_lexer": "ipython3",
   "version": "3.6.1"
  }
 },
 "nbformat": 4,
 "nbformat_minor": 2
}
