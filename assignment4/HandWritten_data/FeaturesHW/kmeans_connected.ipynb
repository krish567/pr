{
 "cells": [
  {
   "cell_type": "code",
   "execution_count": 1,
   "metadata": {
    "collapsed": true
   },
   "outputs": [],
   "source": [
    "import numpy as np\n",
    "\n",
    "from sklearn.cluster import KMeans\n",
    "from sklearn.model_selection import train_test_split\n",
    "from scipy.spatial.distance import cdist\n",
    "\n",
    "import matplotlib.pyplot as plt\n",
    "%matplotlib inline\n",
    "\n",
    "import glob\n",
    "import pandas as pd"
   ]
  },
  {
   "cell_type": "code",
   "execution_count": 10,
   "metadata": {
    "collapsed": true
   },
   "outputs": [],
   "source": [
    "d1 = glob.glob('a/*.txt')\n",
    "d2 = glob.glob('dA/*.txt')\n",
    "d3 = glob.glob('tA/*.txt')\n",
    "\n",
    "d_test = glob.glob('test_data/a-bA-tA/*.txt')"
   ]
  },
  {
   "cell_type": "code",
   "execution_count": 11,
   "metadata": {},
   "outputs": [
    {
     "data": {
      "text/plain": [
       "['test_data/a-bA-tA/1.txt',\n",
       " 'test_data/a-bA-tA/2.txt',\n",
       " 'test_data/a-bA-tA/3.txt']"
      ]
     },
     "execution_count": 11,
     "metadata": {},
     "output_type": "execute_result"
    }
   ],
   "source": [
    "d_test"
   ]
  },
  {
   "cell_type": "code",
   "execution_count": 12,
   "metadata": {
    "collapsed": true
   },
   "outputs": [],
   "source": [
    "def load_mfcc(list_paths):\n",
    "    X = []\n",
    "    for i in list_paths:\n",
    "        X.append(np.array(pd.read_csv(i, sep = \" \", skiprows = [0], header = None))[:,1:])\n",
    "\n",
    "    return np.array(X)\n",
    "\n",
    "def combine(X):\n",
    "    temp_X = []\n",
    "\n",
    "    for i in X:\n",
    "        for j in i:\n",
    "            temp_X.append(j)\n",
    "\n",
    "    return np.array(temp_X)"
   ]
  },
  {
   "cell_type": "code",
   "execution_count": 13,
   "metadata": {
    "collapsed": true
   },
   "outputs": [],
   "source": [
    "def plot_elbow(X, K=10):\n",
    "    \n",
    "    distortions = []\n",
    "    for k in range(1,K):\n",
    "        kmeanModel = KMeans(n_clusters=k).fit(X)\n",
    "        kmeanModel.fit(X)\n",
    "        distortions.append(sum(np.min(cdist(X, kmeanModel.cluster_centers_, 'euclidean'), axis=1)) / X.shape[0])\n",
    "\n",
    "    # Plot the elbow\n",
    "    plt.plot(range(1,K), distortions, 'bx-')\n",
    "    plt.xlabel('k')\n",
    "    plt.ylabel('Distortion')\n",
    "    plt.title('The Elbow Method showing the optimal k')\n",
    "    plt.show()\n",
    "    \n",
    "def get_labels(X, K):\n",
    "    clf = KMeans(n_clusters = K)\n",
    "    clf.fit(X)\n",
    "\n",
    "    # Gives the final cetnroids of each cluster\n",
    "    centroids = clf.cluster_centers_\n",
    "    return (clf.labels_, centroids)\n",
    "\n",
    "def assign_labels(X, centroids):\n",
    "    temp_X = []\n",
    "    for i in X:\n",
    "        temp_X.append(np.argmin(np.sum((centroids-i)**2, axis=1)))\n",
    "#         print(((centroids-i)**2).shape)\n",
    "#         print(temp_X)\n",
    "#         break\n",
    "    return np.array(temp_X)"
   ]
  },
  {
   "cell_type": "code",
   "execution_count": 14,
   "metadata": {
    "collapsed": true
   },
   "outputs": [],
   "source": [
    "def build_train_data(label_data, before_combine_data):\n",
    "    start = 0\n",
    "    end = start\n",
    "    temp_labels = []\n",
    "    for i in before_combine_data:\n",
    "        bound = i.shape[0]\n",
    "        temp_labels.append(label_data[start:end+bound])\n",
    "        start = end+bound\n",
    "        end = start\n",
    "\n",
    "    return np.array(temp_labels)\n",
    "\n",
    "\n",
    "def generate_out(X1, X2, X3, K, test_flag = 0, centroids = None):\n",
    "    cX1 = combine(X1)\n",
    "    cX2 = combine(X2)\n",
    "    cX3 = combine(X3)    \n",
    "\n",
    "    X = np.vstack((cX1, cX2, cX3))\n",
    "    \n",
    "    c_d = None\n",
    "    if test_flag == 0:\n",
    "        (c_d, centroids) = get_labels(X, K)\n",
    "    else:\n",
    "        c_d = assign_labels(X, centroids)\n",
    "\n",
    "    c1 = c_d[0:cX1.shape[0]]\n",
    "    c2 = c_d[cX1.shape[0]:cX1.shape[0]+cX2.shape[0]]\n",
    "    c3 = c_d[cX1.shape[0]+cX2.shape[0]:]\n",
    "\n",
    "    d1_labels = build_train_data(c1, X1)\n",
    "    d2_labels = build_train_data(c2, X2)\n",
    "    d3_labels = build_train_data(c3, X3)\n",
    "\n",
    "    return ((d1_labels, d2_labels, d3_labels), centroids)\n",
    "\n",
    "\n",
    "\n",
    "def write_outfile(np_array, filename=\"np_array.out\"):\n",
    "    with open(filename, 'w') as f:\n",
    "        for row in np_array:\n",
    "            temp = ''\n",
    "            for item in row:\n",
    "                temp = temp+str(item)+' '\n",
    "            f.write(temp+'\\n')\n",
    "    print(\"Dumped to \"+filename)\n",
    "        "
   ]
  },
  {
   "cell_type": "code",
   "execution_count": 15,
   "metadata": {
    "collapsed": true
   },
   "outputs": [],
   "source": [
    "# Load and structure data\n",
    "X1_train = load_mfcc(d1)\n",
    "X2_train = load_mfcc(d2)\n",
    "X3_train = load_mfcc(d3)\n",
    "\n",
    "X_test = load_mfcc(d_test)"
   ]
  },
  {
   "cell_type": "code",
   "execution_count": 16,
   "metadata": {
    "collapsed": true,
    "scrolled": true
   },
   "outputs": [],
   "source": [
    "# plot_elbow(np.vstack((combine(X1_train), combine(X2_train), combine(X3_train))), 15)"
   ]
  },
  {
   "cell_type": "code",
   "execution_count": 20,
   "metadata": {},
   "outputs": [
    {
     "name": "stdout",
     "output_type": "stream",
     "text": [
      "Dumped to hmm-1.04/d_connected_test.out\n"
     ]
    }
   ],
   "source": [
    "K = 30\n",
    "\n",
    "((t1,t2,t3), ctds) = generate_out(X1_train, X2_train, X3_train, K)\n",
    "((t1,t2,t3), dummy) = generate_out(X_test, X_test, X_test, K, test_flag = 1, centroids = ctds)\n",
    "write_outfile(t1,'hmm-1.04/d_connected_test.out')"
   ]
  },
  {
   "cell_type": "code",
   "execution_count": 19,
   "metadata": {},
   "outputs": [
    {
     "name": "stdout",
     "output_type": "stream",
     "text": [
      "test_data/a-bA-tA/1.txt\n",
      "test_data/a-bA-tA/2.txt\n",
      "test_data/a-bA-tA/3.txt\n"
     ]
    }
   ],
   "source": [
    "# print file built seq for test files\n",
    "for i in d_test:\n",
    "    print(i)"
   ]
  },
  {
   "cell_type": "code",
   "execution_count": null,
   "metadata": {
    "collapsed": true
   },
   "outputs": [],
   "source": []
  }
 ],
 "metadata": {
  "kernelspec": {
   "display_name": "Python 3",
   "language": "python",
   "name": "python3"
  },
  "language_info": {
   "codemirror_mode": {
    "name": "ipython",
    "version": 3
   },
   "file_extension": ".py",
   "mimetype": "text/x-python",
   "name": "python",
   "nbconvert_exporter": "python",
   "pygments_lexer": "ipython3",
   "version": "3.6.1"
  }
 },
 "nbformat": 4,
 "nbformat_minor": 2
}
