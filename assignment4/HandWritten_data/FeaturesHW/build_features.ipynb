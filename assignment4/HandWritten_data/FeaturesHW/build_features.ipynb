{
 "cells": [
  {
   "cell_type": "code",
   "execution_count": 1,
   "metadata": {
    "collapsed": true
   },
   "outputs": [],
   "source": [
    "import matplotlib.pyplot as plt\n",
    "import numpy as np\n",
    "\n",
    "import glob"
   ]
  },
  {
   "cell_type": "code",
   "execution_count": 2,
   "metadata": {
    "collapsed": true
   },
   "outputs": [],
   "source": [
    "def mean(X):\n",
    "    return sum(X) / X.shape[0]\n",
    "\n",
    "# NOTE :- np.var(X) is a biased variance....uses N instead of N-1\n",
    "def variance(X):\n",
    "    c = 1 / (X.shape[0] - 1)\n",
    "    mu = mean(X)\n",
    "    var = c * sum((X - mu)**2)\n",
    "    return var\n",
    "\n",
    "def sd(X):\n",
    "    return np.sqrt(variance(X))\n",
    "\n",
    "def normalization_factor(X, Y):\n",
    "    return np.sqrt(sum((X - mean(X))**2 + (Y - mean(Y))**2))\n",
    "\n",
    "### Do all the following feature extraction on size normalized X and Y coordinates\n",
    "\n",
    "# Feature 1\n",
    "def size_normalization(X):\n",
    "    return ((X - min(X)) / (max(X) - min(X)))\n",
    "\n",
    "# Feature 2\n",
    "# X and Y should be normalized or not?\n",
    "# X and Y are not normalized, mu_x and mu_y are the means of normalized X and Y coordinates\n",
    "\n",
    "def deviation_feature_1(X, Y):\n",
    "    v1 = (X - mean(X)) / sd(Y)  # it should be sd(X) ?\n",
    "    v2 = (Y - mean(Y)) / sd(X)\n",
    "    return (v1, v2)\n",
    "\n",
    "# Feature 3\n",
    "def deviation_feature_2(X, Y):\n",
    "    v1 = (X - mean(X)) / normalization_factor(X, Y)\n",
    "    v2 = (Y - mean(Y)) / normalization_factor(X, Y)\n",
    "    return (v1, v2)\n",
    "\n",
    "# Feature 4\n",
    "def zero_mean_feature(X, Y):\n",
    "    v1 = (X - mean(X))\n",
    "    v2 = (Y - mean(Y))\n",
    "    return (v1, v2)\n",
    "\n",
    "# Feature 5\n",
    "def distance_from_origin(X, Y):\n",
    "    return np.sqrt(X**2 + Y**2)\n",
    "\n",
    "# Feature 6\n",
    "def direction_with_horizontal_axis(X, Y):\n",
    "    R = distance_from_origin(X, Y)\n",
    "    return np.arccos(X/R)\n",
    "\n",
    "# Feature 8\n",
    "def distance_from_next_point(X, Y):\n",
    "    R = distance_from_origin(X, Y)\n",
    "    tmp = R\n",
    "    tmp[0] = R[0]\n",
    "    for i in range(1, R.shape[0]):\n",
    "        tmp[i] = R[i] - R[i-1]\n",
    "    return tmp    \n",
    "\n",
    "# Feature 9\n",
    "def angle_with_next_point(X, Y):\n",
    "    theta = direction_with_horizontal_axis(X, Y)\n",
    "    tmp = theta\n",
    "    tmp[0] = theta[0]\n",
    "    for i in range(1, theta.shape[0]):\n",
    "        tmp[i] = theta[i] - theta[i-1]\n",
    "    return tmp   \n",
    "\n",
    "# Feature 11\n",
    "def distance_from_centroid(X, Y):\n",
    "    x_centroid = mean(X)\n",
    "    y_centroid = mean(Y)\n",
    "    return np.sqrt((x_centroid - X)**2 + (x_centroid - Y)**2)\n",
    "\n",
    "# Feature 12\n",
    "def direction_with_centroid(X, Y):\n",
    "    x_centroid = mean(X)\n",
    "    y_centroid = mean(Y)\n",
    "    return np.arctan((y_centroid - Y) / (x_centroid - X))"
   ]
  },
  {
   "cell_type": "code",
   "execution_count": 3,
   "metadata": {
    "collapsed": true
   },
   "outputs": [],
   "source": [
    "def plot_without_normalization(X, Y):\n",
    "    plt.scatter(X, Y, s=50, c= 'cyan', alpha=0.5)\n",
    "    plt.show()\n",
    "\n",
    "def plot_with_normalization(X, Y):\n",
    "    plt.scatter(size_normalization(X), size_normalization(Y), s=50, c= 'cyan', alpha=0.5)\n",
    "    plt.show()"
   ]
  },
  {
   "cell_type": "code",
   "execution_count": 4,
   "metadata": {
    "collapsed": true
   },
   "outputs": [],
   "source": [
    "def build_features(points):\n",
    "    X = points[:,0]\n",
    "    Y = points[:,1]\n",
    "\n",
    "    no_of_coordinates = X.shape[0]\n",
    "    no_of_features = 14\n",
    "    data_point = np.zeros((no_of_coordinates, no_of_features))\n",
    "\n",
    "    X = size_normalization(X)\n",
    "    Y = size_normalization(Y)\n",
    "\n",
    "    data_point[: , 0] = X\n",
    "    data_point[: , 1] = Y\n",
    "    data_point[: , 2], data_point[: , 3]   = deviation_feature_1(X, Y)\n",
    "    data_point[: , 4], data_point[: , 5]   = deviation_feature_2(X, Y)\n",
    "    data_point[: , 6], data_point[: , 7]   = zero_mean_feature(X, Y)\n",
    "    data_point[: , 8]                      = distance_from_origin(X, Y)\n",
    "    data_point[: , 9]                      = direction_with_horizontal_axis(X, Y)\n",
    "    data_point[: , 10]                     = distance_from_next_point(X, Y)\n",
    "    data_point[: , 11]                     = angle_with_next_point(X, Y)\n",
    "    data_point[: , 12]                     = distance_from_centroid(X, Y)\n",
    "    data_point[: , 13]                     = direction_with_centroid(X, Y)\n",
    "    \n",
    "    return data_point"
   ]
  },
  {
   "cell_type": "code",
   "execution_count": 5,
   "metadata": {
    "collapsed": true
   },
   "outputs": [],
   "source": [
    "all_files = glob.glob('test_data/a-bA-tA/*.txt')\n",
    "\n",
    "for file in all_files:\n",
    "    points = np.loadtxt(file)\n",
    "    points = build_features(points)\n",
    "    np.savetxt(file, points, fmt='%.6f')"
   ]
  },
  {
   "cell_type": "code",
   "execution_count": null,
   "metadata": {
    "collapsed": true
   },
   "outputs": [],
   "source": []
  }
 ],
 "metadata": {
  "kernelspec": {
   "display_name": "Python 3",
   "language": "python",
   "name": "python3"
  },
  "language_info": {
   "codemirror_mode": {
    "name": "ipython",
    "version": 3
   },
   "file_extension": ".py",
   "mimetype": "text/x-python",
   "name": "python",
   "nbconvert_exporter": "python",
   "pygments_lexer": "ipython3",
   "version": "3.6.1"
  }
 },
 "nbformat": 4,
 "nbformat_minor": 2
}
